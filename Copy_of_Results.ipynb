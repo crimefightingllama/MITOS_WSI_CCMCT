{
  "cells": [
    {
      "cell_type": "markdown",
      "metadata": {
        "id": "view-in-github",
        "colab_type": "text"
      },
      "source": [
        "<a href=\"https://colab.research.google.com/github/crimefightingllama/MITOS_WSI_CCMCT/blob/master/Copy_of_Results.ipynb\" target=\"_parent\"><img src=\"https://colab.research.google.com/assets/colab-badge.svg\" alt=\"Open In Colab\"/></a>"
      ]
    },
    {
      "cell_type": "markdown",
      "metadata": {
        "id": "DeHg5rvoPL0z"
      },
      "source": [
        "# Plot the region of interest selected by the algorithms and the pathologists\n",
        "\n",
        "Requirements: \n",
        "- Subfolder MITOS_WSI_CCMCT with contents of https://github.com/maubreville/MITOS_WSI_CCMCT\n",
        "----> run notebook Setup.ipynb to download all whole slide images of the data set\n",
        "- SlideRunner (install e.g., via pip install SlideRunner)\n",
        "-   +-- openslide\n",
        "-   +-- opencv3"
      ]
    },
    {
      "cell_type": "code",
      "execution_count": 1,
      "metadata": {
        "colab": {
          "base_uri": "https://localhost:8080/"
        },
        "id": "2Tv8_w7dQ7J3",
        "outputId": "89d3de1a-4f4c-496f-9375-dfb98bdd6fce"
      },
      "outputs": [
        {
          "output_type": "stream",
          "name": "stdout",
          "text": [
            "Cloning into 'MitosisRegionOfInterest'...\n",
            "remote: Enumerating objects: 185, done.\u001b[K\n",
            "remote: Counting objects: 100% (29/29), done.\u001b[K\n",
            "remote: Compressing objects: 100% (22/22), done.\u001b[K\n",
            "remote: Total 185 (delta 9), reused 20 (delta 7), pack-reused 156\u001b[K\n",
            "Receiving objects: 100% (185/185), 795.88 MiB | 38.58 MiB/s, done.\n",
            "Resolving deltas: 100% (43/43), done.\n",
            "Updating files: 100% (115/115), done.\n"
          ]
        }
      ],
      "source": [
        "!git clone https://github.com/crimefightingllama/MitosisRegionOfInterest"
      ]
    },
    {
      "cell_type": "code",
      "execution_count": 2,
      "metadata": {
        "colab": {
          "base_uri": "https://localhost:8080/"
        },
        "id": "A-a0mqw7Rz5z",
        "outputId": "dac603dd-2843-4545-cf58-8654c90e21fe"
      },
      "outputs": [
        {
          "output_type": "stream",
          "name": "stdout",
          "text": [
            "/content/MitosisRegionOfInterest\n"
          ]
        }
      ],
      "source": [
        "cd MitosisRegionOfInterest/"
      ]
    },
    {
      "cell_type": "code",
      "execution_count": 3,
      "metadata": {
        "colab": {
          "base_uri": "https://localhost:8080/"
        },
        "id": "fmGU3MN4R7am",
        "outputId": "95901124-4f83-4e01-901c-797b4e242766"
      },
      "outputs": [
        {
          "output_type": "stream",
          "name": "stdout",
          "text": [
            "Cloning into 'MITOS_WSI_CCMCT'...\n",
            "remote: Enumerating objects: 324, done.\u001b[K\n",
            "remote: Counting objects: 100% (21/21), done.\u001b[K\n",
            "remote: Compressing objects: 100% (12/12), done.\u001b[K\n",
            "remote: Total 324 (delta 8), reused 17 (delta 7), pack-reused 303\u001b[K\n",
            "Receiving objects: 100% (324/324), 876.54 MiB | 21.11 MiB/s, done.\n",
            "Resolving deltas: 100% (135/135), done.\n",
            "Updating files: 100% (138/138), done.\n"
          ]
        }
      ],
      "source": [
        "!git clone https://github.com/crimefightingllama/MITOS_WSI_CCMCT"
      ]
    },
    {
      "cell_type": "code",
      "execution_count": null,
      "metadata": {
        "id": "VhZrTWhyTASN"
      },
      "outputs": [],
      "source": [
        "run /content/MitosisRegionOfInterest/MITOS_WSI_CCMCT/Copy_of_Setup.ipynb"
      ]
    },
    {
      "cell_type": "code",
      "execution_count": 6,
      "metadata": {
        "colab": {
          "base_uri": "https://localhost:8080/"
        },
        "id": "h57J78eOVor_",
        "outputId": "ee629531-d11b-4d8a-a15f-6b6a3a0ce3bc"
      },
      "outputs": [
        {
          "output_type": "stream",
          "name": "stdout",
          "text": [
            "Looking in indexes: https://pypi.org/simple, https://us-python.pkg.dev/colab-wheels/public/simple/\n",
            "Collecting SlideRunner\n",
            "  Downloading SlideRunner-2.0-py3-none-any.whl (511 kB)\n",
            "\u001b[2K     \u001b[90m━━━━━━━━━━━━━━━━━━━━━━━━━━━━━━━━━━━━━━━\u001b[0m \u001b[32m511.1/511.1 KB\u001b[0m \u001b[31m8.9 MB/s\u001b[0m eta \u001b[36m0:00:00\u001b[0m\n",
            "\u001b[?25hCollecting rollbar>=0.14\n",
            "  Downloading rollbar-0.16.3-py3-none-any.whl (98 kB)\n",
            "\u001b[2K     \u001b[90m━━━━━━━━━━━━━━━━━━━━━━━━━━━━━━━━━━━━━━━━\u001b[0m \u001b[32m98.1/98.1 KB\u001b[0m \u001b[31m10.7 MB/s\u001b[0m eta \u001b[36m0:00:00\u001b[0m\n",
            "\u001b[?25hRequirement already satisfied: shapely>=1.6.4 in /usr/local/lib/python3.9/dist-packages (from SlideRunner) (2.0.1)\n",
            "Requirement already satisfied: opencv-python>=3.1.0 in /usr/local/lib/python3.9/dist-packages (from SlideRunner) (4.7.0.72)\n",
            "Requirement already satisfied: numpy>=1.13 in /usr/local/lib/python3.9/dist-packages (from SlideRunner) (1.22.4)\n",
            "Requirement already satisfied: matplotlib>=2.0.0 in /usr/local/lib/python3.9/dist-packages (from SlideRunner) (3.7.1)\n",
            "Collecting PyQt5\n",
            "  Downloading PyQt5-5.15.9-cp37-abi3-manylinux_2_17_x86_64.whl (8.4 MB)\n",
            "\u001b[2K     \u001b[90m━━━━━━━━━━━━━━━━━━━━━━━━━━━━━━━━━━━━━━━━\u001b[0m \u001b[32m8.4/8.4 MB\u001b[0m \u001b[31m67.2 MB/s\u001b[0m eta \u001b[36m0:00:00\u001b[0m\n",
            "\u001b[?25hCollecting openslide-python>=1.1.1\n",
            "  Downloading openslide-python-1.2.0.tar.gz (338 kB)\n",
            "\u001b[2K     \u001b[90m━━━━━━━━━━━━━━━━━━━━━━━━━━━━━━━━━━━━━━\u001b[0m \u001b[32m338.7/338.7 KB\u001b[0m \u001b[31m26.9 MB/s\u001b[0m eta \u001b[36m0:00:00\u001b[0m\n",
            "\u001b[?25h  Preparing metadata (setup.py) ... \u001b[?25l\u001b[?25hdone\n",
            "Collecting pydicom>=1.4.1\n",
            "  Downloading pydicom-2.3.1-py3-none-any.whl (2.0 MB)\n",
            "\u001b[2K     \u001b[90m━━━━━━━━━━━━━━━━━━━━━━━━━━━━━━━━━━━━━━━━\u001b[0m \u001b[32m2.0/2.0 MB\u001b[0m \u001b[31m56.8 MB/s\u001b[0m eta \u001b[36m0:00:00\u001b[0m\n",
            "\u001b[?25hRequirement already satisfied: fonttools>=4.22.0 in /usr/local/lib/python3.9/dist-packages (from matplotlib>=2.0.0->SlideRunner) (4.39.3)\n",
            "Requirement already satisfied: packaging>=20.0 in /usr/local/lib/python3.9/dist-packages (from matplotlib>=2.0.0->SlideRunner) (23.0)\n",
            "Requirement already satisfied: kiwisolver>=1.0.1 in /usr/local/lib/python3.9/dist-packages (from matplotlib>=2.0.0->SlideRunner) (1.4.4)\n",
            "Requirement already satisfied: contourpy>=1.0.1 in /usr/local/lib/python3.9/dist-packages (from matplotlib>=2.0.0->SlideRunner) (1.0.7)\n",
            "Requirement already satisfied: cycler>=0.10 in /usr/local/lib/python3.9/dist-packages (from matplotlib>=2.0.0->SlideRunner) (0.11.0)\n",
            "Requirement already satisfied: importlib-resources>=3.2.0 in /usr/local/lib/python3.9/dist-packages (from matplotlib>=2.0.0->SlideRunner) (5.12.0)\n",
            "Requirement already satisfied: pillow>=6.2.0 in /usr/local/lib/python3.9/dist-packages (from matplotlib>=2.0.0->SlideRunner) (8.4.0)\n",
            "Requirement already satisfied: pyparsing>=2.3.1 in /usr/local/lib/python3.9/dist-packages (from matplotlib>=2.0.0->SlideRunner) (3.0.9)\n",
            "Requirement already satisfied: python-dateutil>=2.7 in /usr/local/lib/python3.9/dist-packages (from matplotlib>=2.0.0->SlideRunner) (2.8.2)\n",
            "Collecting PyQt5-Qt5>=5.15.2\n",
            "  Downloading PyQt5_Qt5-5.15.2-py3-none-manylinux2014_x86_64.whl (59.9 MB)\n",
            "\u001b[2K     \u001b[90m━━━━━━━━━━━━━━━━━━━━━━━━━━━━━━━━━━━━━━━━\u001b[0m \u001b[32m59.9/59.9 MB\u001b[0m \u001b[31m11.5 MB/s\u001b[0m eta \u001b[36m0:00:00\u001b[0m\n",
            "\u001b[?25hCollecting PyQt5-sip<13,>=12.11\n",
            "  Downloading PyQt5_sip-12.11.1-cp39-cp39-manylinux_2_5_x86_64.manylinux1_x86_64.whl (357 kB)\n",
            "\u001b[2K     \u001b[90m━━━━━━━━━━━━━━━━━━━━━━━━━━━━━━━━━━━━━━\u001b[0m \u001b[32m357.8/357.8 KB\u001b[0m \u001b[31m30.9 MB/s\u001b[0m eta \u001b[36m0:00:00\u001b[0m\n",
            "\u001b[?25hRequirement already satisfied: six>=1.9.0 in /usr/local/lib/python3.9/dist-packages (from rollbar>=0.14->SlideRunner) (1.16.0)\n",
            "Requirement already satisfied: requests>=0.12.1 in /usr/local/lib/python3.9/dist-packages (from rollbar>=0.14->SlideRunner) (2.27.1)\n",
            "Requirement already satisfied: zipp>=3.1.0 in /usr/local/lib/python3.9/dist-packages (from importlib-resources>=3.2.0->matplotlib>=2.0.0->SlideRunner) (3.15.0)\n",
            "Requirement already satisfied: urllib3<1.27,>=1.21.1 in /usr/local/lib/python3.9/dist-packages (from requests>=0.12.1->rollbar>=0.14->SlideRunner) (1.26.15)\n",
            "Requirement already satisfied: idna<4,>=2.5 in /usr/local/lib/python3.9/dist-packages (from requests>=0.12.1->rollbar>=0.14->SlideRunner) (3.4)\n",
            "Requirement already satisfied: charset-normalizer~=2.0.0 in /usr/local/lib/python3.9/dist-packages (from requests>=0.12.1->rollbar>=0.14->SlideRunner) (2.0.12)\n",
            "Requirement already satisfied: certifi>=2017.4.17 in /usr/local/lib/python3.9/dist-packages (from requests>=0.12.1->rollbar>=0.14->SlideRunner) (2022.12.7)\n",
            "Building wheels for collected packages: openslide-python\n",
            "  Building wheel for openslide-python (setup.py) ... \u001b[?25l\u001b[?25hdone\n",
            "  Created wheel for openslide-python: filename=openslide_python-1.2.0-cp39-cp39-linux_x86_64.whl size=27989 sha256=b53ef79809f856a563e191df8150046bca3d9ddd7531d19444d189fcbee95e89\n",
            "  Stored in directory: /root/.cache/pip/wheels/ad/84/69/1b8062b5e72d19f9fc3586e1946ee99ea65403e3133ecad1f5\n",
            "Successfully built openslide-python\n",
            "Installing collected packages: PyQt5-Qt5, PyQt5-sip, pydicom, openslide-python, rollbar, PyQt5, SlideRunner\n",
            "Successfully installed PyQt5-5.15.9 PyQt5-Qt5-5.15.2 PyQt5-sip-12.11.1 SlideRunner-2.0 openslide-python-1.2.0 pydicom-2.3.1 rollbar-0.16.3\n",
            "Looking in indexes: https://pypi.org/simple, https://us-python.pkg.dev/colab-wheels/public/simple/\n",
            "Collecting requests-toolbelt\n",
            "  Downloading requests_toolbelt-0.10.1-py2.py3-none-any.whl (54 kB)\n",
            "\u001b[2K     \u001b[90m━━━━━━━━━━━━━━━━━━━━━━━━━━━━━━━━━━━━━━━━\u001b[0m \u001b[32m54.5/54.5 KB\u001b[0m \u001b[31m2.2 MB/s\u001b[0m eta \u001b[36m0:00:00\u001b[0m\n",
            "\u001b[?25hRequirement already satisfied: requests<3.0.0,>=2.0.1 in /usr/local/lib/python3.9/dist-packages (from requests-toolbelt) (2.27.1)\n",
            "Requirement already satisfied: charset-normalizer~=2.0.0 in /usr/local/lib/python3.9/dist-packages (from requests<3.0.0,>=2.0.1->requests-toolbelt) (2.0.12)\n",
            "Requirement already satisfied: urllib3<1.27,>=1.21.1 in /usr/local/lib/python3.9/dist-packages (from requests<3.0.0,>=2.0.1->requests-toolbelt) (1.26.15)\n",
            "Requirement already satisfied: idna<4,>=2.5 in /usr/local/lib/python3.9/dist-packages (from requests<3.0.0,>=2.0.1->requests-toolbelt) (3.4)\n",
            "Requirement already satisfied: certifi>=2017.4.17 in /usr/local/lib/python3.9/dist-packages (from requests<3.0.0,>=2.0.1->requests-toolbelt) (2022.12.7)\n",
            "Installing collected packages: requests-toolbelt\n",
            "Successfully installed requests-toolbelt-0.10.1\n",
            "Hit:1 http://archive.ubuntu.com/ubuntu focal InRelease\n",
            "Get:2 http://archive.ubuntu.com/ubuntu focal-updates InRelease [114 kB]\n",
            "Get:3 https://developer.download.nvidia.com/compute/cuda/repos/ubuntu2004/x86_64  InRelease [1,581 B]\n",
            "Get:4 https://cloud.r-project.org/bin/linux/ubuntu focal-cran40/ InRelease [3,622 B]\n",
            "Hit:5 http://ppa.launchpad.net/c2d4u.team/c2d4u4.0+/ubuntu focal InRelease\n",
            "Get:6 http://archive.ubuntu.com/ubuntu focal-backports InRelease [108 kB]\n",
            "Get:7 http://security.ubuntu.com/ubuntu focal-security InRelease [114 kB]\n",
            "Hit:8 http://ppa.launchpad.net/cran/libgit2/ubuntu focal InRelease\n",
            "Get:9 https://developer.download.nvidia.com/compute/cuda/repos/ubuntu2004/x86_64  Packages [972 kB]\n",
            "Get:10 http://ppa.launchpad.net/deadsnakes/ppa/ubuntu focal InRelease [18.1 kB]\n",
            "Get:11 http://archive.ubuntu.com/ubuntu focal-updates/restricted amd64 Packages [2,199 kB]\n",
            "Hit:12 http://ppa.launchpad.net/graphics-drivers/ppa/ubuntu focal InRelease\n",
            "Get:13 http://archive.ubuntu.com/ubuntu focal-updates/main amd64 Packages [3,069 kB]\n",
            "Get:14 http://archive.ubuntu.com/ubuntu focal-updates/universe amd64 Packages [1,324 kB]\n",
            "Get:15 http://archive.ubuntu.com/ubuntu focal-updates/multiverse amd64 Packages [31.3 kB]\n",
            "Hit:16 http://ppa.launchpad.net/ubuntugis/ppa/ubuntu focal InRelease\n",
            "Get:17 http://security.ubuntu.com/ubuntu focal-security/restricted amd64 Packages [2,060 kB]\n",
            "Get:18 http://ppa.launchpad.net/deadsnakes/ppa/ubuntu focal/main amd64 Packages [29.5 kB]\n",
            "Get:19 http://security.ubuntu.com/ubuntu focal-security/multiverse amd64 Packages [28.5 kB]\n",
            "Get:20 http://security.ubuntu.com/ubuntu focal-security/main amd64 Packages [2,590 kB]\n",
            "Fetched 12.7 MB in 2s (5,632 kB/s)\n",
            "Reading package lists... Done\n",
            "Building dependency tree       \n",
            "Reading state information... Done\n",
            "24 packages can be upgraded. Run 'apt list --upgradable' to see them.\n",
            "Reading package lists... Done\n",
            "Building dependency tree       \n",
            "Reading state information... Done\n",
            "The following additional packages will be installed:\n",
            "  libopenslide0\n",
            "Suggested packages:\n",
            "  libtiff-tools\n",
            "The following NEW packages will be installed:\n",
            "  libopenslide0 openslide-tools\n",
            "0 upgraded, 2 newly installed, 0 to remove and 24 not upgraded.\n",
            "Need to get 95.5 kB of archives.\n",
            "After this operation, 289 kB of additional disk space will be used.\n",
            "Get:1 http://archive.ubuntu.com/ubuntu focal/universe amd64 libopenslide0 amd64 3.4.1+dfsg-4 [82.1 kB]\n",
            "Get:2 http://archive.ubuntu.com/ubuntu focal/universe amd64 openslide-tools amd64 3.4.1+dfsg-4 [13.4 kB]\n",
            "Fetched 95.5 kB in 0s (511 kB/s)\n",
            "Selecting previously unselected package libopenslide0.\n",
            "(Reading database ... 122349 files and directories currently installed.)\n",
            "Preparing to unpack .../libopenslide0_3.4.1+dfsg-4_amd64.deb ...\n",
            "Unpacking libopenslide0 (3.4.1+dfsg-4) ...\n",
            "Selecting previously unselected package openslide-tools.\n",
            "Preparing to unpack .../openslide-tools_3.4.1+dfsg-4_amd64.deb ...\n",
            "Unpacking openslide-tools (3.4.1+dfsg-4) ...\n",
            "Setting up libopenslide0 (3.4.1+dfsg-4) ...\n",
            "Setting up openslide-tools (3.4.1+dfsg-4) ...\n",
            "Processing triggers for man-db (2.9.1-1) ...\n",
            "Processing triggers for libc-bin (2.31-0ubuntu9.9) ...\n",
            "Looking in indexes: https://pypi.org/simple, https://us-python.pkg.dev/colab-wheels/public/simple/\n",
            "Requirement already satisfied: openslide-python in /usr/local/lib/python3.9/dist-packages (1.2.0)\n",
            "Requirement already satisfied: Pillow in /usr/local/lib/python3.9/dist-packages (from openslide-python) (8.4.0)\n",
            "Looking in indexes: https://pypi.org/simple, https://us-python.pkg.dev/colab-wheels/public/simple/\n",
            "Collecting EXCAT-Sync\n",
            "  Downloading EXCAT_Sync-0.0.38-py3-none-any.whl (154 kB)\n",
            "\u001b[2K     \u001b[90m━━━━━━━━━━━━━━━━━━━━━━━━━━━━━━━━━━━━━━━\u001b[0m \u001b[32m154.7/154.7 KB\u001b[0m \u001b[31m3.8 MB/s\u001b[0m eta \u001b[36m0:00:00\u001b[0m\n",
            "\u001b[?25hRequirement already satisfied: requests-toolbelt in /usr/local/lib/python3.9/dist-packages (from EXCAT-Sync) (0.10.1)\n",
            "Requirement already satisfied: tqdm in /usr/local/lib/python3.9/dist-packages (from EXCAT-Sync) (4.65.0)\n",
            "Collecting locust==1.1.0\n",
            "  Downloading locust-1.1-py3-none-any.whl (288 kB)\n",
            "\u001b[2K     \u001b[90m━━━━━━━━━━━━━━━━━━━━━━━━━━━━━━━━━━━━━━\u001b[0m \u001b[32m288.7/288.7 KB\u001b[0m \u001b[31m14.8 MB/s\u001b[0m eta \u001b[36m0:00:00\u001b[0m\n",
            "\u001b[?25hRequirement already satisfied: requests in /usr/local/lib/python3.9/dist-packages (from EXCAT-Sync) (2.27.1)\n",
            "Requirement already satisfied: pillow in /usr/local/lib/python3.9/dist-packages (from EXCAT-Sync) (8.4.0)\n",
            "Requirement already satisfied: flask>=1.1.2 in /usr/local/lib/python3.9/dist-packages (from locust==1.1.0->EXCAT-Sync) (2.2.3)\n",
            "Requirement already satisfied: msgpack>=0.6.2 in /usr/local/lib/python3.9/dist-packages (from locust==1.1.0->EXCAT-Sync) (1.0.5)\n",
            "Collecting gevent>=1.5.0\n",
            "  Downloading gevent-22.10.2-cp39-cp39-manylinux_2_17_x86_64.manylinux2014_x86_64.whl (6.4 MB)\n",
            "\u001b[2K     \u001b[90m━━━━━━━━━━━━━━━━━━━━━━━━━━━━━━━━━━━━━━━━\u001b[0m \u001b[32m6.4/6.4 MB\u001b[0m \u001b[31m59.3 MB/s\u001b[0m eta \u001b[36m0:00:00\u001b[0m\n",
            "\u001b[?25hCollecting Flask-BasicAuth>=0.2.0\n",
            "  Downloading Flask-BasicAuth-0.2.0.tar.gz (16 kB)\n",
            "  Preparing metadata (setup.py) ... \u001b[?25l\u001b[?25hdone\n",
            "Requirement already satisfied: psutil>=5.6.7 in /usr/local/lib/python3.9/dist-packages (from locust==1.1.0->EXCAT-Sync) (5.9.4)\n",
            "Collecting ConfigArgParse>=1.0\n",
            "  Downloading ConfigArgParse-1.5.3-py3-none-any.whl (20 kB)\n",
            "Collecting geventhttpclient>=1.4.2\n",
            "  Downloading geventhttpclient-2.0.9-cp39-cp39-manylinux_2_5_x86_64.manylinux1_x86_64.manylinux_2_17_x86_64.manylinux2014_x86_64.whl (103 kB)\n",
            "\u001b[2K     \u001b[90m━━━━━━━━━━━━━━━━━━━━━━━━━━━━━━━━━━━━━━━\u001b[0m \u001b[32m103.4/103.4 KB\u001b[0m \u001b[31m9.9 MB/s\u001b[0m eta \u001b[36m0:00:00\u001b[0m\n",
            "\u001b[?25hRequirement already satisfied: pyzmq>=16.0.2 in /usr/local/lib/python3.9/dist-packages (from locust==1.1.0->EXCAT-Sync) (23.2.1)\n",
            "Requirement already satisfied: urllib3<1.27,>=1.21.1 in /usr/local/lib/python3.9/dist-packages (from requests->EXCAT-Sync) (1.26.15)\n",
            "Requirement already satisfied: charset-normalizer~=2.0.0 in /usr/local/lib/python3.9/dist-packages (from requests->EXCAT-Sync) (2.0.12)\n",
            "Requirement already satisfied: idna<4,>=2.5 in /usr/local/lib/python3.9/dist-packages (from requests->EXCAT-Sync) (3.4)\n",
            "Requirement already satisfied: certifi>=2017.4.17 in /usr/local/lib/python3.9/dist-packages (from requests->EXCAT-Sync) (2022.12.7)\n",
            "Requirement already satisfied: importlib-metadata>=3.6.0 in /usr/local/lib/python3.9/dist-packages (from flask>=1.1.2->locust==1.1.0->EXCAT-Sync) (6.1.0)\n",
            "Requirement already satisfied: Jinja2>=3.0 in /usr/local/lib/python3.9/dist-packages (from flask>=1.1.2->locust==1.1.0->EXCAT-Sync) (3.1.2)\n",
            "Requirement already satisfied: Werkzeug>=2.2.2 in /usr/local/lib/python3.9/dist-packages (from flask>=1.1.2->locust==1.1.0->EXCAT-Sync) (2.2.3)\n",
            "Requirement already satisfied: click>=8.0 in /usr/local/lib/python3.9/dist-packages (from flask>=1.1.2->locust==1.1.0->EXCAT-Sync) (8.1.3)\n",
            "Requirement already satisfied: itsdangerous>=2.0 in /usr/local/lib/python3.9/dist-packages (from flask>=1.1.2->locust==1.1.0->EXCAT-Sync) (2.1.2)\n",
            "Collecting zope.event\n",
            "  Downloading zope.event-4.6-py2.py3-none-any.whl (6.8 kB)\n",
            "Collecting zope.interface\n",
            "  Downloading zope.interface-6.0-cp39-cp39-manylinux_2_5_x86_64.manylinux1_x86_64.manylinux_2_17_x86_64.manylinux2014_x86_64.whl (246 kB)\n",
            "\u001b[2K     \u001b[90m━━━━━━━━━━━━━━━━━━━━━━━━━━━━━━━━━━━━━━\u001b[0m \u001b[32m246.1/246.1 KB\u001b[0m \u001b[31m20.7 MB/s\u001b[0m eta \u001b[36m0:00:00\u001b[0m\n",
            "\u001b[?25hRequirement already satisfied: greenlet>=2.0.0 in /usr/local/lib/python3.9/dist-packages (from gevent>=1.5.0->locust==1.1.0->EXCAT-Sync) (2.0.2)\n",
            "Requirement already satisfied: setuptools in /usr/local/lib/python3.9/dist-packages (from gevent>=1.5.0->locust==1.1.0->EXCAT-Sync) (67.6.1)\n",
            "Requirement already satisfied: six in /usr/local/lib/python3.9/dist-packages (from geventhttpclient>=1.4.2->locust==1.1.0->EXCAT-Sync) (1.16.0)\n",
            "Collecting brotli\n",
            "  Downloading Brotli-1.0.9-cp39-cp39-manylinux1_x86_64.whl (357 kB)\n",
            "\u001b[2K     \u001b[90m━━━━━━━━━━━━━━━━━━━━━━━━━━━━━━━━━━━━━━\u001b[0m \u001b[32m357.2/357.2 KB\u001b[0m \u001b[31m32.0 MB/s\u001b[0m eta \u001b[36m0:00:00\u001b[0m\n",
            "\u001b[?25hRequirement already satisfied: zipp>=0.5 in /usr/local/lib/python3.9/dist-packages (from importlib-metadata>=3.6.0->flask>=1.1.2->locust==1.1.0->EXCAT-Sync) (3.15.0)\n",
            "Requirement already satisfied: MarkupSafe>=2.0 in /usr/local/lib/python3.9/dist-packages (from Jinja2>=3.0->flask>=1.1.2->locust==1.1.0->EXCAT-Sync) (2.1.2)\n",
            "Building wheels for collected packages: Flask-BasicAuth\n",
            "  Building wheel for Flask-BasicAuth (setup.py) ... \u001b[?25l\u001b[?25hdone\n",
            "  Created wheel for Flask-BasicAuth: filename=Flask_BasicAuth-0.2.0-py3-none-any.whl size=4241 sha256=9a920961b5c81d433bda2ddf62fa815f45dea793ececd2c70770bb2b2d283aea\n",
            "  Stored in directory: /root/.cache/pip/wheels/d4/5a/db/e442580c22be34f69e537448832d7e1ee5a9c5adb63ace30bf\n",
            "Successfully built Flask-BasicAuth\n",
            "Installing collected packages: brotli, zope.interface, zope.event, ConfigArgParse, gevent, geventhttpclient, Flask-BasicAuth, locust, EXCAT-Sync\n",
            "Successfully installed ConfigArgParse-1.5.3 EXCAT-Sync-0.0.38 Flask-BasicAuth-0.2.0 brotli-1.0.9 gevent-22.10.2 geventhttpclient-2.0.9 locust-1.1 zope.event-4.6 zope.interface-6.0\n"
          ]
        }
      ],
      "source": [
        "!pip install SlideRunner\n",
        "!pip install requests-toolbelt\n",
        "!sudo apt update && apt install -y openslide-tools\n",
        "!pip install openslide-python\n",
        "!pip install EXCAT-Sync"
      ]
    },
    {
      "cell_type": "code",
      "source": [
        "!git pull https://github.com/crimefightingllama/MitosisRegionOfInterest"
      ],
      "metadata": {
        "colab": {
          "base_uri": "https://localhost:8080/"
        },
        "id": "1jHgRCUj3IBg",
        "outputId": "51f6a7a5-b1ef-4d2b-e1b2-4f9a17279c7a"
      },
      "execution_count": 12,
      "outputs": [
        {
          "output_type": "stream",
          "name": "stdout",
          "text": [
            "From https://github.com/crimefightingllama/MitosisRegionOfInterest\n",
            " * branch            HEAD       -> FETCH_HEAD\n",
            "Already up to date.\n"
          ]
        }
      ]
    },
    {
      "cell_type": "code",
      "execution_count": 27,
      "metadata": {
        "colab": {
          "base_uri": "https://localhost:8080/"
        },
        "id": "znQCW53MPL01",
        "outputId": "4df5ec15-45d2-48a1-e2f3-9e5339532c07"
      },
      "outputs": [
        {
          "output_type": "stream",
          "name": "stdout",
          "text": [
            "The autoreload extension is already loaded. To reload it, use:\n",
            "  %reload_ext autoreload\n",
            "[Errno 2] No such file or directory: 'content/MitosisRegionOfInterest'\n",
            "/content/MitosisRegionOfInterest/lib\n",
            "/content/MitosisRegionOfInterest\n",
            "/content/MitosisRegionOfInterest/lib\n"
          ]
        }
      ],
      "source": [
        "%load_ext autoreload\n",
        "%autoreload 2\n",
        "%matplotlib inline\n",
        "import matplotlib\n",
        "import matplotlib.pyplot as plt \n",
        "import sqlite3\n",
        "from SlideRunner.general.dependencies import *\n",
        "import numpy as np\n",
        "from SlideRunner.dataAccess import *\n",
        "from SlideRunner.dataAccess import *\n",
        "from SlideRunner.dataAccess import annotations\n",
        "import SlideRunner.dataAccess.annotations\n",
        "import os\n",
        "import openslide\n",
        "import sys\n",
        "import pickle\n",
        "os.chdir(\"..\")\n",
        "%cd content/MitosisRegionOfInterest\n",
        "print(os.getcwd())\n",
        "%cd lib/\n",
        "\n",
        "# os.chdir(\"lib\")\n",
        "# from lib.retrieveDensity import *\n",
        "# from lib.visualization import *\n",
        "from retrieveDensity import *\n",
        "from visualization import *\n",
        "\n",
        "\n",
        "plt.rcParams['image.composite_image'] = False\n",
        "\n"
      ]
    },
    {
      "cell_type": "code",
      "execution_count": 28,
      "metadata": {
        "id": "0UAReT_mXO2l"
      },
      "outputs": [],
      "source": [
        "os.chdir(\"..\")"
      ]
    },
    {
      "cell_type": "code",
      "source": [
        "pwd"
      ],
      "metadata": {
        "colab": {
          "base_uri": "https://localhost:8080/",
          "height": 35
        },
        "id": "t2aX6Lrx7ZGC",
        "outputId": "ed6fb57a-ab93-4cfb-cc56-213d6c296b38"
      },
      "execution_count": 29,
      "outputs": [
        {
          "output_type": "execute_result",
          "data": {
            "text/plain": [
              "'/content/MitosisRegionOfInterest'"
            ],
            "application/vnd.google.colaboratory.intrinsic+json": {
              "type": "string"
            }
          },
          "metadata": {},
          "execution_count": 29
        }
      ]
    },
    {
      "cell_type": "markdown",
      "metadata": {
        "id": "p3wVvh1MPL02"
      },
      "source": [
        "We did a post-training selection on the validation set, and selected amongst the last 20 epochs the one with the smallest error (regression approach) or highest F1 score (unet segmentation approach)\n",
        "\n"
      ]
    },
    {
      "cell_type": "code",
      "execution_count": 30,
      "metadata": {
        "id": "nTUVcN3oPL02"
      },
      "outputs": [],
      "source": [
        "\n",
        "epochs_selected_regression = [138, 146, 149]\n",
        "epochs_selected_segmentation = [135, 143, 132]\n"
      ]
    },
    {
      "cell_type": "markdown",
      "metadata": {
        "id": "buxR55_DPL02"
      },
      "source": [
        "## Definition of slides and cross-validation run sets"
      ]
    },
    {
      "cell_type": "code",
      "execution_count": 31,
      "metadata": {
        "id": "kqXEodCgPL02"
      },
      "outputs": [],
      "source": [
        "slidelist = [['be10fa37ad6e88e1f406.svs', 'f3741e764d39ccc4d114.svs', 'c86cd41f96331adf3856.svs', \n",
        "              '552c51bfb88fd3e65ffe.svs', '8c9f9618fcaca747b7c3.svs', 'c91a842257ed2add5134.svs', \n",
        "              'dd4246ab756f6479c841.svs', 'f26e9fcef24609b988be.svs', '96274538c93980aad8d6.svs', \n",
        "              'add0a9bbc53d1d9bac4c.svs', '1018715d369dd0df2fc0.svs'],\n",
        "             ['c3eb4b8382b470dd63a9.svs', 'fff27b79894fe0157b08.svs', 'ac1168b2c893d2acad38.svs', \n",
        "              '8bebdd1f04140ed89426.svs', '39ecf7f94ed96824405d.svs', '2f2591b840e83a4b4358.svs', \n",
        "              '91a8e57ea1f9cb0aeb63.svs', '066c94c4c161224077a9.svs', '9374efe6ac06388cc877.svs', \n",
        "              '285f74bb6be025a676b6.svs', 'ce949341ba99845813ac.svs'],\n",
        "             ['2f17d43b3f9e7dacf24c.svs', 'a0c8b612fe0655eab3ce.svs', '34eb28ce68c1106b2bac.svs', \n",
        "              '3f2e034c75840cb901e6.svs', '20c0753af38303691b27.svs', '2efb541724b5c017c503.svs', \n",
        "              'dd6dd0d54b81ebc59c77.svs', '2e611073cff18d503cea.svs', '70ed18cd5f806cf396f0.svs', \n",
        "              '0e56fd11a762be0983f0.svs']]\n",
        "\n",
        "testslides = slidelist[0]+slidelist[1]+slidelist[2]\n",
        "\n",
        "# the order will be actually determined later, however, it helped me to not confuse the slides to have it in \n",
        "# the (later determined) correct order right from the start\n",
        "testslides=[testslides[x] for x in [ 0, 29, 28, 21, 20, 19, 18, 17, 16, 31,  2,  3,  1, 30,  4, 27, 14,  5, 12,  6, 13, 23, 15, 11, 7,  9, 22, 26, 24,  8, 25, 10]]\n",
        "\n",
        "\n"
      ]
    },
    {
      "cell_type": "markdown",
      "metadata": {
        "id": "JEAdwUSvPL03"
      },
      "source": [
        "## File definition for the object-detection-based approaches"
      ]
    },
    {
      "cell_type": "code",
      "execution_count": 32,
      "metadata": {
        "id": "-fUi7uVJPL03"
      },
      "outputs": [],
      "source": [
        "# Thresholds for the object detection approach  (have been optimized on the train+validation set)\n",
        "thresholds_2ndstage = [0.54, 0.41, 0.40]\n",
        "thresholds_1stage = [0.79, 0.81, 0.69]\n",
        "\n",
        "\n",
        "files_1stage =  ['RetinaNet-ODAEL-export.pth-CCMCT_ODAEL-inference_results_boxes.p', \n",
        "                'RetinaNet-ODAEL-export-batch2.pth-ODAEL_batch2-inference_results_boxes.p',\n",
        "                'RetinaNet-ODAEL-export-batch3.pth-ODAEL_batch3-inference_results_boxes.p']\n",
        "files_2ndstage = ['2ndstage_RetinaNet-ODAEL-export.pth-CCMCT_ODAEL-inference_results_boxes.p', \n",
        "                '2ndstage_RetinaNet-ODAEL-export-batch2.pth-ODAEL_batch2-inference_results_boxes.p',\n",
        "                '2ndstage_RetinaNet-ODAEL-export-batch3.pth-ODAEL_batch3-inference_results_boxes.p']\n",
        "\n",
        "# Ablation study\n",
        "\n",
        "thresholds_10hpf_2ndstage = [0.76,0.52,0.71]\n",
        "thresholds_10hpf_1ststage = [0.65,0.60,0.52]\n",
        "\n",
        "files_1stage_10hpf =  ['RetinaNet-ODAEL-10HPF-export.pth-CCMCT_ODAEL-inference_results_boxes.p', \n",
        "                       'RetinaNet-ODAEL-10HPF-batch2-export.pth-CCMCT_ODAEL-inference_results_boxes.p',\n",
        "                       'RetinaNet-ODAEL-10HPF-batch3-export.pth-CCMCT_ODAEL-inference_results_boxes.p']\n",
        "files_2stage_10hpf =  ['2ndstage_RetinaNet-ODAEL-10HPF-export.pth-CCMCT_ODAEL-inference_results_boxes.p', \n",
        "                       '2ndstage_RetinaNet-ODAEL-10HPF-batch2-export.pth-CCMCT_ODAEL-inference_results_boxes.p',\n",
        "                       '2ndstage_RetinaNet-ODAEL-10HPF-batch3-export.pth-CCMCT_ODAEL-inference_results_boxes.p']\n",
        "\n"
      ]
    },
    {
      "cell_type": "code",
      "execution_count": 33,
      "metadata": {
        "id": "dlJ2fG7xPL04"
      },
      "outputs": [],
      "source": [
        "DB = Database().open('MITOS_WSI_CCMCT/databases/MITOS_WSI_CCMCT_ODAEL.sqlite')\n",
        "\n",
        "dbExpert = Database()\n",
        "dbTumorzone = Database()\n",
        "dbTumorzone.open('MITOS_WSI_CCMCT/databases/MITOS_WSI_CCMCT_Tumorzone.sqlite')\n",
        "dbExpert.open('data/pathologists_anon.sqlite')\n",
        "\n",
        "allSlides = dbTumorzone.execute('SELECT filename FROM Slides').fetchall()\n",
        "results_1stage = []\n",
        "results_2stage = []\n",
        "results_1stage_10hpf = []\n",
        "results_2stage_10hpf = []"
      ]
    },
    {
      "cell_type": "markdown",
      "metadata": {
        "id": "M2Aq98_gPL04"
      },
      "source": [
        "## Load Object Detection results\n",
        "\n",
        "To not use up too much space on github, results have been compressed using bzip2."
      ]
    },
    {
      "cell_type": "code",
      "execution_count": 34,
      "metadata": {
        "id": "i3QDjrQsPL05",
        "outputId": "c95a0f5d-51f9-44bc-ad21-0da558c0aa87",
        "colab": {
          "base_uri": "https://localhost:8080/"
        }
      },
      "outputs": [
        {
          "output_type": "stream",
          "name": "stdout",
          "text": [
            "Loading OD 10HPF results ..\n",
            "...  RetinaNet-ODAEL-10HPF-export.pth-CCMCT_ODAEL-inference_results_boxes.p\n",
            "...  RetinaNet-ODAEL-10HPF-batch2-export.pth-CCMCT_ODAEL-inference_results_boxes.p\n",
            "...  RetinaNet-ODAEL-10HPF-batch3-export.pth-CCMCT_ODAEL-inference_results_boxes.p\n",
            "Loading OD2 10HPF results ..\n",
            "...  2ndstage_RetinaNet-ODAEL-10HPF-export.pth-CCMCT_ODAEL-inference_results_boxes.p\n",
            "...  2ndstage_RetinaNet-ODAEL-10HPF-batch2-export.pth-CCMCT_ODAEL-inference_results_boxes.p\n",
            "...  2ndstage_RetinaNet-ODAEL-10HPF-batch3-export.pth-CCMCT_ODAEL-inference_results_boxes.p\n",
            "Loading OD results ..\n",
            "...  RetinaNet-ODAEL-export.pth-CCMCT_ODAEL-inference_results_boxes.p\n",
            "...  RetinaNet-ODAEL-export-batch2.pth-ODAEL_batch2-inference_results_boxes.p\n",
            "...  RetinaNet-ODAEL-export-batch3.pth-ODAEL_batch3-inference_results_boxes.p\n",
            "Loading 2nd stage OD results ..\n",
            "...  2ndstage_RetinaNet-ODAEL-export.pth-CCMCT_ODAEL-inference_results_boxes.p\n",
            "...  2ndstage_RetinaNet-ODAEL-export-batch2.pth-ODAEL_batch2-inference_results_boxes.p\n",
            "...  2ndstage_RetinaNet-ODAEL-export-batch3.pth-ODAEL_batch3-inference_results_boxes.p\n"
          ]
        }
      ],
      "source": [
        "import bz2\n",
        "\n",
        "slidedir = './MITOS_WSI_CCMCT/WSI/'\n",
        "resultsdir = 'results/'\n",
        "\n",
        "\n",
        "print('Loading OD 10HPF results ..')\n",
        "for x in range(3):\n",
        "        print('... ', files_1stage_10hpf[x])\n",
        "        results_1stage_10hpf.append(pickle.load(bz2.BZ2File(resultsdir+files_1stage_10hpf[x]+'.bz2','rb')))\n",
        "\n",
        "print('Loading OD2 10HPF results ..')\n",
        "for x in range(3):\n",
        "        print('... ', files_2stage_10hpf[x])\n",
        "        results_2stage_10hpf.append(pickle.load(bz2.BZ2File(resultsdir+files_2stage_10hpf[x]+'.bz2','rb')))\n",
        "\n",
        "print('Loading OD results ..')\n",
        "for x in range(3):\n",
        "        print('... ', files_1stage[x])\n",
        "        results_1stage.append(pickle.load(bz2.BZ2File(resultsdir+files_1stage[x]+'.bz2','rb')))\n",
        "\n",
        "print('Loading 2nd stage OD results ..')\n",
        "for x in range(3):\n",
        "        results_2stage.append(pickle.load(bz2.BZ2File(resultsdir+files_2ndstage[x]+'.bz2','rb')))\n",
        "        print('... ', files_2ndstage[x])\n",
        "\n",
        "\n"
      ]
    },
    {
      "cell_type": "markdown",
      "metadata": {
        "id": "tlnQVBsTPL05"
      },
      "source": [
        "### Prepare color maps"
      ]
    },
    {
      "cell_type": "code",
      "execution_count": 35,
      "metadata": {
        "id": "zcVKargLPL05"
      },
      "outputs": [],
      "source": [
        "import matplotlib.pylab as pl\n",
        "from matplotlib.colors import ListedColormap\n",
        "\n",
        "\n",
        "cmap = pl.cm.Greens\n",
        "\n",
        "my_cmap = cmap(np.arange(cmap.N))\n",
        "\n",
        "my_cmap[:,-1] = np.linspace(0, 1, cmap.N)\n",
        "\n",
        "my_cmap = ListedColormap(my_cmap)\n",
        "\n",
        "cmap = pl.cm.winter\n",
        "\n",
        "my_cmap2 = cmap(np.arange(cmap.N))\n",
        "\n",
        "my_cmap2[:,-1] = np.linspace(0, 1, cmap.N)\n",
        "\n",
        "my_cmap2 = ListedColormap(my_cmap2)"
      ]
    },
    {
      "cell_type": "markdown",
      "metadata": {
        "id": "dgN9ixXBPL05"
      },
      "source": [
        "# Main calculation step and drawing of result maps\n",
        "\n",
        "This step generates the ground truth and estimated mitotic count maps for plotting (Figure 5 in the manuscript)"
      ]
    },
    {
      "cell_type": "code",
      "execution_count": 36,
      "metadata": {
        "id": "iwAwHvknPL05",
        "outputId": "46cab6b1-d59c-4bfe-9792-a5eeab9eb6a4",
        "colab": {
          "base_uri": "https://localhost:8080/",
          "height": 270
        }
      },
      "outputs": [
        {
          "output_type": "stream",
          "name": "stdout",
          "text": [
            "Slide: be10fa37ad6e88e1f406.svs, part of validation run:  0\n",
            "Warning: DB not opened.\n"
          ]
        },
        {
          "output_type": "error",
          "ename": "AttributeError",
          "evalue": "ignored",
          "traceback": [
            "\u001b[0;31m---------------------------------------------------------------------------\u001b[0m",
            "\u001b[0;31mAttributeError\u001b[0m                            Traceback (most recent call last)",
            "\u001b[0;32m<ipython-input-36-187d6e887e53>\u001b[0m in \u001b[0;36m<cell line: 5>\u001b[0;34m()\u001b[0m\n\u001b[1;32m     17\u001b[0m     \u001b[0mcountMap\u001b[0m\u001b[0;34m,\u001b[0m\u001b[0mW_x\u001b[0m\u001b[0;34m,\u001b[0m\u001b[0mW_y\u001b[0m\u001b[0;34m,\u001b[0m \u001b[0mmitosisMap\u001b[0m\u001b[0;34m,\u001b[0m \u001b[0mcircleMap\u001b[0m\u001b[0;34m,\u001b[0m\u001b[0mmitlist\u001b[0m \u001b[0;34m=\u001b[0m \u001b[0mgetMitoticCountGT\u001b[0m\u001b[0;34m(\u001b[0m\u001b[0mDB\u001b[0m\u001b[0;34m,\u001b[0m \u001b[0mslidedir\u001b[0m\u001b[0;34m,\u001b[0m \u001b[0mslidename\u001b[0m\u001b[0;34m)\u001b[0m\u001b[0;34m\u001b[0m\u001b[0;34m\u001b[0m\u001b[0m\n\u001b[1;32m     18\u001b[0m \u001b[0;34m\u001b[0m\u001b[0m\n\u001b[0;32m---> 19\u001b[0;31m     \u001b[0mallExperts\u001b[0m \u001b[0;34m=\u001b[0m \u001b[0mdbExpert\u001b[0m\u001b[0;34m.\u001b[0m\u001b[0mexecute\u001b[0m\u001b[0;34m(\u001b[0m\u001b[0;34m'SELECT uid,name FROM Persons'\u001b[0m\u001b[0;34m)\u001b[0m\u001b[0;34m.\u001b[0m\u001b[0mfetchall\u001b[0m\u001b[0;34m(\u001b[0m\u001b[0;34m)\u001b[0m\u001b[0;34m\u001b[0m\u001b[0;34m\u001b[0m\u001b[0m\n\u001b[0m\u001b[1;32m     20\u001b[0m \u001b[0;34m\u001b[0m\u001b[0m\n\u001b[1;32m     21\u001b[0m     \u001b[0mcountVal\u001b[0m\u001b[0;34m=\u001b[0m\u001b[0mdict\u001b[0m\u001b[0;34m(\u001b[0m\u001b[0;34m)\u001b[0m\u001b[0;34m\u001b[0m\u001b[0;34m\u001b[0m\u001b[0m\n",
            "\u001b[0;31mAttributeError\u001b[0m: 'NoneType' object has no attribute 'fetchall'"
          ]
        }
      ],
      "source": [
        "bp=list()\n",
        "bplabel=list()\n",
        "percMalign=list()\n",
        "expertRegionCount=list()\n",
        "for slidenumber,slidename in enumerate(testslides):\n",
        "    valrun=None\n",
        "    for k in range(3):\n",
        "        if (slidename in slidelist[k]):\n",
        "            valrun=k\n",
        "            print(f'Slide: {slidename}, part of validation run: ',valrun)\n",
        "    if valrun is None:\n",
        "            continue\n",
        "\n",
        "    countVal = dict()\n",
        "    slidebasename = slidename[0:-4]\n",
        "\n",
        "    countMap,W_x,W_y, mitosisMap, circleMap,mitlist = getMitoticCountGT(DB, slidedir, slidename)\n",
        "\n",
        "    allExperts = dbExpert.execute('SELECT uid,name FROM Persons').fetchall()\n",
        "    \n",
        "    countVal=dict()\n",
        "    center=dict()\n",
        "    for expert,name in allExperts:\n",
        "            \n",
        "            countVal[name], center[name], countMap = getExpertRegion(dbExpert, expert, slidename, countMap)\n",
        "\n",
        "\n",
        "    sl = openslide.open_slide(slidedir+slidename)\n",
        "    thumb = sl.get_thumbnail(size=[countMap.shape[1], countMap.shape[0]])\n",
        "    thumb = np.asarray(thumb)\n",
        "\n",
        "    validMask = retrieveValidMask(slidedir+slidename)\n",
        "    activeCountMap = countMap[validMask>0] \n",
        "    \n",
        "\n",
        "    resultMap_OD1,single_OD1 = retrieveDensity_OD(slidedir,slidename, thresholds_1stage[valrun], results_1stage[valrun])\n",
        "    resultMap_OD2,single_OD2 = retrieveDensity_OD(slidedir, slidename, thresholds_2ndstage[valrun], results_2stage[valrun])\n",
        "    resultMap_Res,nonSmoothed = retrieveDensity_reg(slidedir, slidename, resultsdir, '_results_dirreg_%d.npz' % epochs_selected_regression[valrun])\n",
        "    resultMap_segmentation, nonSmoothed = retrieveDensityUNET(slidedir, slidename, resultsdir, '.unet_roi_epoch%d_UNET.npz' % epochs_selected_segmentation[valrun])\n",
        "\n",
        "    resultMap_OD1_10HPF,single_OD1_10HPF = retrieveDensity_OD(slidedir, slidename, thresholds_10hpf_1ststage[valrun], results_1stage_10hpf[valrun])\n",
        "    resultMap_OD2_10HPF,single_OD2_10HPF = retrieveDensity_OD(slidedir, slidename, thresholds_10hpf_2ndstage[valrun], results_2stage_10hpf[valrun])\n",
        "\n",
        "    # Apply valid mask on all results\n",
        "    resultMap_segmentation[validMask==0]=0\n",
        "    resultMap_OD1[validMask==0]=0\n",
        "    resultMap_OD2[validMask==0]=0\n",
        "    resultMap_OD1_10HPF[validMask==0]=0\n",
        "    resultMap_OD2_10HPF[validMask==0]=0\n",
        "    resultMap_Res[cv2.resize(validMask,dsize=resultMap_Res.shape[::-1])==0]=0\n",
        "    maxC_OD1 = np.unravel_index(np.argmax(resultMap_OD1, axis=None), resultMap_OD1.shape)\n",
        "    countVal['AlgoOD1'] = round(countMap[maxC_OD1[0],maxC_OD1[1]])\n",
        "    maxC_OD2 = np.unravel_index(np.argmax(resultMap_OD2, axis=None), resultMap_OD2.shape)\n",
        "    countVal['AlgoOD2'] = round(countMap[maxC_OD2[0],maxC_OD2[1]])\n",
        "\n",
        "    maxC_OD1_10HPF = np.unravel_index(np.argmax(resultMap_OD1_10HPF, axis=None), resultMap_OD1_10HPF.shape)\n",
        "    countVal['AlgoOD1_10HPF'] = round(countMap[maxC_OD1_10HPF[0],maxC_OD1_10HPF[1]])\n",
        "    maxC_OD2_10HPF = np.unravel_index(np.argmax(resultMap_OD2_10HPF, axis=None), resultMap_OD2_10HPF.shape)\n",
        "    countVal['AlgoOD2_10HPF'] = round(countMap[maxC_OD2_10HPF[0],maxC_OD2_10HPF[1]])\n",
        "\n",
        "    ds_resnet = 16\n",
        "    maxC_Reg = np.unravel_index(np.argmax(resultMap_Res, axis=None), resultMap_Res.shape)\n",
        "    maxC_Reg = [x*ds_resnet for x in maxC_Reg]\n",
        "    countVal['AlgoReg'] = round(countMap[maxC_Reg[0],maxC_Reg[1]])\n",
        "    print('ResMap shape: ',resultMap_Res.shape,'Real shape:',countMap.shape)\n",
        "    ds_resnet = 1\n",
        "    maxC_Map = np.unravel_index(np.argmax(resultMap_segmentation, axis=None), resultMap_segmentation.shape)\n",
        "    maxC_Map = [x*ds_resnet for x in maxC_Map]\n",
        "    print('resultMap_segmentation shape: ',resultMap_segmentation.shape,'Real shape:',countMap.shape)\n",
        "    countVal['AlgoMap'] = round(countMap[maxC_Map[0],maxC_Map[1]])\n",
        "\n",
        "    print('   -> Plotting')\n",
        "    fig = plt.figure(figsize=(10,5))\n",
        "    print('       (Main image)')\n",
        "    plt.imshow(thumb)\n",
        "    plt.axis('off')\n",
        "\n",
        "    print('       (Countmap overlay)')\n",
        "    plt.imshow(countMap, cmap=my_cmap)\n",
        "    clb = plt.colorbar()\n",
        "    clb.set_label(label='mitotic count (MC)',size=18)\n",
        "    clb.ax.tick_params(labelsize=16) \n",
        "    plt.tight_layout()\n",
        "\n",
        "    colors = {'BCVP1': 'r', \n",
        "              'BCVP2': 'r',\n",
        "              'BCVP3': 'r',\n",
        "              'BCVP5': 'r',\n",
        "              'BCVP4': 'r',\n",
        "              'VPIT1': 'b',\n",
        "              'VPIT2': 'b',\n",
        "              'VPIT3': 'b'}\n",
        "\n",
        "    markers = {'BCVP1': '*', \n",
        "              'BCVP2': 's',\n",
        "              'BCVP3': 'o',\n",
        "              'BCVP5': 'P',\n",
        "              'BCVP4': 'X',\n",
        "              'VPIT1': 'd',\n",
        "              'VPIT2': 'p',\n",
        "              'VPIT3': '.'}\n",
        "\n",
        "    labels = {'BCVP1': 'BCVP1', \n",
        "              'BCVP2': 'BCVP2',\n",
        "              'BCVP3': 'BCVP3',\n",
        "              'BCVP4': 'BCVP4',\n",
        "              'BCVP5': 'BCVP5',\n",
        "              'VPIT1': 'VPIT1',\n",
        "              'VPIT2': 'VPIT2',\n",
        "              'VPIT3': 'VPIT3'}\n",
        "\n",
        "    linestyle = {'BCVP1': '-', \n",
        "              'BCVP2': '--',\n",
        "              'BCVP3': '-.',\n",
        "              'BCVP5': ':',\n",
        "              'BCVP4': '-',\n",
        "              'VPIT1': '--',\n",
        "              'VPIT2': '-.',\n",
        "              'VPIT3': ':'}\n",
        "\n",
        "\n",
        "\n",
        "    for name in labels.keys():\n",
        "            plt_rect_around(center[name], d=(W_x,W_y), linewidth=2, linestyle=linestyle[name], color=colors[name], label='%s, GTMC=%d' % (labels[name], countVal[name]))\n",
        "\n",
        "\n",
        "    plt_rect_around((maxC_OD1[1],maxC_OD1[0]), d=(W_x,W_y), linewidth=2, linestyle=':', color='c', label='OD1, GTMC=%d' % countVal['AlgoOD1'])\n",
        "    plt_rect_around((maxC_OD2[1],maxC_OD2[0]), d=(W_x,W_y), linewidth=2, linestyle='-', color='c', label='OD2, GTMC=%d' % countVal['AlgoOD2'])\n",
        "    plt_rect_around((maxC_Reg[1],maxC_Reg[0]), d=(W_x,W_y), linewidth=2, linestyle='-.', color='c', label='Reg, GTMC=%d' % countVal['AlgoReg'])\n",
        "    plt_rect_around((maxC_Map[1],maxC_Map[0]), d=(W_x,W_y), linewidth=2, linestyle='--', color='c', label='Map, GTMC=%d' % countVal['AlgoMap'])\n",
        "    plt_rect_around((maxC_OD2_10HPF[1],maxC_OD2_10HPF[0]), d=(W_x,W_y), linewidth=2, linestyle='-', color='m', label='OD2-10HPF, GTMC=%d' % countVal['AlgoOD2_10HPF'])\n",
        "    \n",
        "\n",
        "    plt.legend(loc='upper right', bbox_to_anchor=(-0.05, 0.75))\n",
        "    fig.subplots_adjust(left=0.35)\n",
        "\n",
        "    print('       (saving)')\n",
        "    #plt.savefig('resultMap_%s.pdf' % slidename)\n",
        "    plt.close(fig)\n",
        "    print('       (saved)')\n",
        "\n",
        "    fig = plt.figure(figsize=(10,5))\n",
        "    plt.imshow(thumb)\n",
        "    plt.axis('off')\n",
        "    for name in labels.keys():\n",
        "                    plt_rect_around(center[name], d=(W_x,W_y), linewidth=2, linestyle=linestyle[name], color=colors[name], label='%s, GTMC=%d' % (labels[name], countVal[name]))\n",
        "        \n",
        "        \n",
        "    plt_rect_around((maxC_OD1[1],maxC_OD1[0]), d=(W_x,W_y), linewidth=2, linestyle=':', color='c', label='OD1, GTMC=%d' % countVal['AlgoOD1'])\n",
        "    plt_rect_around((maxC_OD2[1],maxC_OD2[0]), d=(W_x,W_y), linewidth=2, linestyle='-', color='c', label='OD2, GTMC=%d' % countVal['AlgoOD2'])\n",
        "    plt_rect_around((maxC_Reg[1],maxC_Reg[0]), d=(W_x,W_y), linewidth=2, linestyle='-.', color='c', label='Reg, GTMC=%d' % countVal['AlgoReg'])\n",
        "    plt_rect_around((maxC_Map[1],maxC_Map[0]), d=(W_x,W_y), linewidth=2, linestyle='--', color='c', label='Seg, GTMC=%d' % countVal['AlgoMap'])\n",
        "    plt_rect_around((maxC_OD2_10HPF[1],maxC_OD2_10HPF[0]), d=(W_x,W_y), linewidth=2, linestyle='-', color='m', label='OD2-10HPF, GTMC=%d' % countVal['AlgoOD2_10HPF'])\n",
        "\n",
        "    for (x,y) in mitlist:\n",
        "        plt.plot(x,y,marker='.',  color=[0,1,0], markersize=3)\n",
        "        \n",
        "    plt.legend(loc='upper right', bbox_to_anchor=(-0.05, 0.75))\n",
        "    plt.tight_layout()\n",
        "    #plt.savefig('circleMap_%s.pdf' % slidename)\n",
        "    plt.title(f'Single slide results: {slidename}')\n",
        "            \n",
        "    expertRegionCount.append(countVal)\n",
        "\n",
        "    percMalign += [100*np.sum(activeCountMap>=7)/activeCountMap.shape[0]]\n",
        "\n",
        "    if (slidenumber in [1,6,10,11,12,13]):\n",
        "        fig = plt.figure(figsize=(10,5))\n",
        "        plt.imshow(thumb)\n",
        "        plt.axis('off')\n",
        "        for (x,y) in single_OD2:\n",
        "                plt.plot(x,y,marker='.',  color=[0,1,0], markersize=3)\n",
        "\n",
        "        clb.ax.tick_params(labelsize=16) \n",
        "        plt.tight_layout()\n",
        "        plt_rect_around((maxC_OD2[1],maxC_OD2[0]), d=(W_x,W_y), linewidth=2, linestyle='-', color='c', label='OD2, GTMC=%d' % countVal['AlgoOD2'])\n",
        "        plt.savefig('estimate_OD2%s.pdf' % slidename[:-4])\n",
        "        plt.close(fig)\n",
        "\n",
        "        fig = plt.figure(figsize=(10,5))\n",
        "        plt.imshow(thumb)\n",
        "        plt.axis('off')\n",
        "\n",
        "        for (x,y) in single_OD2_10HPF:\n",
        "                plt.plot(x,y,marker='.',  color=[0,1,0], markersize=3)\n",
        "        plt_rect_around((maxC_OD2_10HPF[1],maxC_OD2_10HPF[0]), d=(W_x,W_y), linewidth=2, linestyle='-', color='m', label='OD2-10HPF, GTMC=%d' % countVal['AlgoOD2_10HPF'])\n",
        "\n",
        "        plt.tight_layout()\n",
        "       # plt.savefig('estimate_OD2_10HPF%s.pdf' % slidename[:-4])\n",
        "        plt.close(fig)\n",
        "\n",
        "    print('Adding activeCountMap to array',activeCountMap.shape)\n",
        "    bp += [activeCountMap]\n",
        "    print('Done.')\n",
        "\n"
      ]
    },
    {
      "cell_type": "markdown",
      "metadata": {
        "id": "AiZPK_uoPL06"
      },
      "source": [
        "# To the main results comparison plot (Figure 4 in the manuscript)\n"
      ]
    },
    {
      "cell_type": "code",
      "execution_count": null,
      "metadata": {
        "id": "qj9yYiciPL06",
        "outputId": "89eb83b4-e706-4e8b-cbde-0ffddcc25f54"
      },
      "outputs": [
        {
          "name": "stderr",
          "output_type": "stream",
          "text": [
            "/localhome/aubrevillelocal/.local/lib/python3.6/site-packages/ipykernel_launcher.py:39: MatplotlibDeprecationWarning: Setting whis to 'range' is deprecated since 3.2 and support for it will be removed two minor releases later; set it to [0, 100] to achieve the same effect.\n",
            "/localhome/aubrevillelocal/.local/lib/python3.6/site-packages/ipykernel_launcher.py:67: MatplotlibDeprecationWarning: Setting whis to 'range' is deprecated since 3.2 and support for it will be removed two minor releases later; set it to [0, 100] to achieve the same effect.\n",
            "/localhome/aubrevillelocal/.local/lib/python3.6/site-packages/ipykernel_launcher.py:111: MatplotlibDeprecationWarning: Setting whis to 'range' is deprecated since 3.2 and support for it will be removed two minor releases later; set it to [0, 100] to achieve the same effect.\n"
          ]
        },
        {
          "name": "stdout",
          "output_type": "stream",
          "text": [
            "ID  0 : be10fa37ad6e88e1f406.svs\n",
            "    BCVP1:0,BCVP2:2,VPIT1:1,BCVP3:1,BCVP4:1,VPIT2:0,BCVP5:2,VPIT3:0,AlgoOD1:2,AlgoOD2:1,AlgoOD1_10HPF:2,AlgoOD2_10HPF:0,AlgoReg:2,AlgoMap:2\n",
            "ID  1 : 2e611073cff18d503cea.svs\n",
            "    BCVP1:1,BCVP2:0,VPIT1:1,BCVP3:0,BCVP4:0,VPIT2:0,BCVP5:0,VPIT3:0,AlgoOD1:1,AlgoOD2:5,AlgoOD1_10HPF:1,AlgoOD2_10HPF:1,AlgoReg:5,AlgoMap:0\n",
            "ID  2 : dd6dd0d54b81ebc59c77.svs\n",
            "    BCVP1:0,BCVP2:1,VPIT1:0,BCVP3:0,BCVP4:0,VPIT2:0,BCVP5:1,VPIT3:0,AlgoOD1:1,AlgoOD2:2,AlgoOD1_10HPF:1,AlgoOD2_10HPF:1,AlgoReg:1,AlgoMap:2\n",
            "ID  3 : ce949341ba99845813ac.svs\n",
            "    BCVP1:0,BCVP2:0,VPIT1:0,BCVP3:0,BCVP4:0,VPIT2:0,BCVP5:0,VPIT3:0,AlgoOD1:0,AlgoOD2:1,AlgoOD1_10HPF:0,AlgoOD2_10HPF:0,AlgoReg:0,AlgoMap:0\n",
            "ID  4 : 285f74bb6be025a676b6.svs\n",
            "    BCVP1:0,BCVP2:0,VPIT1:0,BCVP3:0,BCVP4:1,VPIT2:0,BCVP5:2,VPIT3:0,AlgoOD1:2,AlgoOD2:2,AlgoOD1_10HPF:1,AlgoOD2_10HPF:2,AlgoReg:1,AlgoMap:2\n",
            "ID  5 : 9374efe6ac06388cc877.svs\n",
            "    BCVP1:1,BCVP2:0,VPIT1:0,BCVP3:0,BCVP4:1,VPIT2:0,BCVP5:0,VPIT3:0,AlgoOD1:2,AlgoOD2:1,AlgoOD1_10HPF:0,AlgoOD2_10HPF:2,AlgoReg:2,AlgoMap:1\n",
            "ID  6 : 066c94c4c161224077a9.svs\n",
            "    BCVP1:1,BCVP2:3,VPIT1:1,BCVP3:1,BCVP4:1,VPIT2:0,BCVP5:3,VPIT3:1,AlgoOD1:0,AlgoOD2:5,AlgoOD1_10HPF:6,AlgoOD2_10HPF:6,AlgoReg:1,AlgoMap:6\n",
            "ID  7 : 91a8e57ea1f9cb0aeb63.svs\n",
            "    BCVP1:0,BCVP2:0,VPIT1:0,BCVP3:2,BCVP4:1,VPIT2:1,BCVP5:2,VPIT3:2,AlgoOD1:0,AlgoOD2:2,AlgoOD1_10HPF:0,AlgoOD2_10HPF:0,AlgoReg:1,AlgoMap:2\n",
            "ID  8 : 2f2591b840e83a4b4358.svs\n",
            "    BCVP1:0,BCVP2:0,VPIT1:0,BCVP3:0,BCVP4:0,VPIT2:0,BCVP5:0,VPIT3:0,AlgoOD1:1,AlgoOD2:0,AlgoOD1_10HPF:0,AlgoOD2_10HPF:0,AlgoReg:1,AlgoMap:0\n",
            "ID  9 : 0e56fd11a762be0983f0.svs\n",
            "    BCVP1:0,BCVP2:1,VPIT1:0,BCVP3:0,BCVP4:1,VPIT2:1,BCVP5:0,VPIT3:0,AlgoOD1:0,AlgoOD2:2,AlgoOD1_10HPF:0,AlgoOD2_10HPF:0,AlgoReg:1,AlgoMap:0\n",
            "ID  10 : c86cd41f96331adf3856.svs\n",
            "    BCVP1:2,BCVP2:0,VPIT1:1,BCVP3:2,BCVP4:2,VPIT2:0,BCVP5:0,VPIT3:2,AlgoOD1:0,AlgoOD2:0,AlgoOD1_10HPF:2,AlgoOD2_10HPF:2,AlgoReg:5,AlgoMap:1\n",
            "ID  11 : 552c51bfb88fd3e65ffe.svs\n",
            "    BCVP1:4,BCVP2:2,VPIT1:3,BCVP3:4,BCVP4:3,VPIT2:3,BCVP5:2,VPIT3:1,AlgoOD1:0,AlgoOD2:8,AlgoOD1_10HPF:1,AlgoOD2_10HPF:1,AlgoReg:4,AlgoMap:8\n",
            "ID  12 : f3741e764d39ccc4d114.svs\n",
            "    BCVP1:6,BCVP2:3,VPIT1:0,BCVP3:3,BCVP4:3,VPIT2:2,BCVP5:3,VPIT3:1,AlgoOD1:7,AlgoOD2:7,AlgoOD1_10HPF:1,AlgoOD2_10HPF:1,AlgoReg:1,AlgoMap:1\n",
            "ID  13 : 70ed18cd5f806cf396f0.svs\n",
            "    BCVP1:6,BCVP2:3,VPIT1:3,BCVP3:2,BCVP4:3,VPIT2:3,BCVP5:5,VPIT3:3,AlgoOD1:9,AlgoOD2:10,AlgoOD1_10HPF:4,AlgoOD2_10HPF:1,AlgoReg:2,AlgoMap:3\n",
            "ID  14 : 8c9f9618fcaca747b7c3.svs\n",
            "    BCVP1:19,BCVP2:5,VPIT1:14,BCVP3:11,BCVP4:10,VPIT2:8,BCVP5:24,VPIT3:1,AlgoOD1:32,AlgoOD2:19,AlgoOD1_10HPF:29,AlgoOD2_10HPF:31,AlgoReg:29,AlgoMap:25\n",
            "ID  15 : 8bebdd1f04140ed89426.svs\n",
            "    BCVP1:37,BCVP2:3,VPIT1:35,BCVP3:34,BCVP4:19,VPIT2:20,BCVP5:37,VPIT3:39,AlgoOD1:41,AlgoOD2:41,AlgoOD1_10HPF:39,AlgoOD2_10HPF:40,AlgoReg:38,AlgoMap:40\n",
            "ID  16 : 2efb541724b5c017c503.svs\n",
            "    BCVP1:8,BCVP2:11,VPIT1:14,BCVP3:14,BCVP4:9,VPIT2:9,BCVP5:13,VPIT3:12,AlgoOD1:15,AlgoOD2:15,AlgoOD1_10HPF:7,AlgoOD2_10HPF:13,AlgoReg:14,AlgoMap:15\n",
            "ID  17 : c91a842257ed2add5134.svs\n",
            "    BCVP1:24,BCVP2:25,VPIT1:25,BCVP3:11,BCVP4:9,VPIT2:2,BCVP5:21,VPIT3:16,AlgoOD1:27,AlgoOD2:31,AlgoOD1_10HPF:30,AlgoOD2_10HPF:35,AlgoReg:26,AlgoMap:23\n",
            "ID  18 : dd4246ab756f6479c841.svs\n",
            "    BCVP1:19,BCVP2:18,VPIT1:26,BCVP3:25,BCVP4:17,VPIT2:11,BCVP5:19,VPIT3:14,AlgoOD1:30,AlgoOD2:30,AlgoOD1_10HPF:31,AlgoOD2_10HPF:7,AlgoReg:26,AlgoMap:29\n",
            "ID  19 : fff27b79894fe0157b08.svs\n",
            "    BCVP1:100,BCVP2:12,VPIT1:95,BCVP3:103,BCVP4:23,VPIT2:25,BCVP5:23,VPIT3:64,AlgoOD1:104,AlgoOD2:109,AlgoOD1_10HPF:109,AlgoOD2_10HPF:105,AlgoReg:102,AlgoMap:106\n",
            "ID  20 : ac1168b2c893d2acad38.svs\n",
            "    BCVP1:19,BCVP2:20,VPIT1:24,BCVP3:17,BCVP4:12,VPIT2:10,BCVP5:18,VPIT3:17,AlgoOD1:10,AlgoOD2:21,AlgoOD1_10HPF:8,AlgoOD2_10HPF:21,AlgoReg:26,AlgoMap:18\n",
            "ID  21 : a0c8b612fe0655eab3ce.svs\n",
            "    BCVP1:17,BCVP2:31,VPIT1:39,BCVP3:36,BCVP4:36,VPIT2:35,BCVP5:40,VPIT3:20,AlgoOD1:40,AlgoOD2:42,AlgoOD1_10HPF:40,AlgoOD2_10HPF:39,AlgoReg:41,AlgoMap:43\n",
            "ID  22 : 39ecf7f94ed96824405d.svs\n",
            "    BCVP1:65,BCVP2:81,VPIT1:77,BCVP3:90,BCVP4:28,VPIT2:114,BCVP5:60,VPIT3:35,AlgoOD1:95,AlgoOD2:136,AlgoOD1_10HPF:80,AlgoOD2_10HPF:136,AlgoReg:97,AlgoMap:125\n",
            "ID  23 : c3eb4b8382b470dd63a9.svs\n",
            "    BCVP1:221,BCVP2:196,VPIT1:210,BCVP3:224,BCVP4:210,VPIT2:223,BCVP5:210,VPIT3:220,AlgoOD1:232,AlgoOD2:287,AlgoOD1_10HPF:207,AlgoOD2_10HPF:292,AlgoReg:194,AlgoMap:203\n",
            "ID  24 : f26e9fcef24609b988be.svs\n",
            "    BCVP1:45,BCVP2:47,VPIT1:51,BCVP3:94,BCVP4:46,VPIT2:20,BCVP5:51,VPIT3:50,AlgoOD1:137,AlgoOD2:136,AlgoOD1_10HPF:75,AlgoOD2_10HPF:137,AlgoReg:138,AlgoMap:140\n",
            "ID  25 : add0a9bbc53d1d9bac4c.svs\n",
            "    BCVP1:71,BCVP2:80,VPIT1:40,BCVP3:60,BCVP4:44,VPIT2:75,BCVP5:63,VPIT3:45,AlgoOD1:71,AlgoOD2:77,AlgoOD1_10HPF:112,AlgoOD2_10HPF:114,AlgoReg:97,AlgoMap:105\n",
            "ID  26 : 2f17d43b3f9e7dacf24c.svs\n",
            "    BCVP1:55,BCVP2:26,VPIT1:50,BCVP3:48,BCVP4:29,VPIT2:43,BCVP5:36,VPIT3:57,AlgoOD1:77,AlgoOD2:76,AlgoOD1_10HPF:71,AlgoOD2_10HPF:76,AlgoReg:72,AlgoMap:75\n",
            "ID  27 : 20c0753af38303691b27.svs\n",
            "    BCVP1:77,BCVP2:70,VPIT1:154,BCVP3:131,BCVP4:25,VPIT2:64,BCVP5:120,VPIT3:62,AlgoOD1:131,AlgoOD2:169,AlgoOD1_10HPF:137,AlgoOD2_10HPF:145,AlgoReg:154,AlgoMap:145\n",
            "ID  28 : 34eb28ce68c1106b2bac.svs\n",
            "    BCVP1:115,BCVP2:22,VPIT1:35,BCVP3:56,BCVP4:50,VPIT2:48,BCVP5:109,VPIT3:36,AlgoOD1:118,AlgoOD2:123,AlgoOD1_10HPF:121,AlgoOD2_10HPF:14,AlgoReg:115,AlgoMap:115\n",
            "ID  29 : 96274538c93980aad8d6.svs\n",
            "    BCVP1:31,BCVP2:31,VPIT1:34,BCVP3:74,BCVP4:43,VPIT2:39,BCVP5:47,VPIT3:45,AlgoOD1:35,AlgoOD2:91,AlgoOD1_10HPF:71,AlgoOD2_10HPF:75,AlgoReg:48,AlgoMap:88\n",
            "ID  30 : 3f2e034c75840cb901e6.svs\n",
            "    BCVP1:19,BCVP2:14,VPIT1:10,BCVP3:16,BCVP4:8,VPIT2:17,BCVP5:21,VPIT3:22,AlgoOD1:25,AlgoOD2:31,AlgoOD1_10HPF:20,AlgoOD2_10HPF:26,AlgoReg:26,AlgoMap:20\n",
            "ID  31 : 1018715d369dd0df2fc0.svs\n",
            "    BCVP1:78,BCVP2:124,VPIT1:121,BCVP3:110,BCVP4:112,VPIT2:124,BCVP5:129,VPIT3:115,AlgoOD1:133,AlgoOD2:144,AlgoOD1_10HPF:152,AlgoOD2_10HPF:164,AlgoReg:153,AlgoMap:163\n"
          ]
        },
        {
          "data": {
            "image/png": "[encoded data removed]",
            "text/plain": [
              "<Figure size 720x288 with 3 Axes>"
            ]
          },
          "metadata": {},
          "output_type": "display_data"
        }
      ],
      "source": [
        "# First sort into the 3 box plots\n",
        "argsorted = np.argsort(percMalign)\n",
        "percMalignSorted=list()\n",
        "expertRegionCountSorted=list()\n",
        "bpSorted=list()\n",
        "for k in range(argsorted.shape[0]):\n",
        "    sortIdx = argsorted[k]\n",
        "    percMalignSorted.append(percMalign[sortIdx])\n",
        "    bpSorted.append(bp[sortIdx])\n",
        "    expertRegionCountSorted.append(expertRegionCount[sortIdx])\n",
        "\n",
        "bp1=list()\n",
        "bp1label=list()\n",
        "bp2=list()\n",
        "bp2label=list()\n",
        "bp3=list()\n",
        "bp3label=list()\n",
        "OFFSET1=11\n",
        "OFFSET2=21\n",
        "for k in np.arange(0,OFFSET1):\n",
        "    bp1 += [bpSorted[k]]\n",
        "    bp1label += [k+1]\n",
        "\n",
        "for k in np.arange(OFFSET1,OFFSET2):\n",
        "    bp2 += [bpSorted[k]]\n",
        "    bp2label += [k+1]\n",
        "\n",
        "for k in np.arange(OFFSET2,32):\n",
        "    bp3 += [bpSorted[k]]\n",
        "    bp3label += [k+1]\n",
        "\n",
        "import matplotlib as mpl\n",
        "mpl.rcParams['lines.markersize'] = 4\n",
        "\n",
        "\n",
        "fig = plt.figure(figsize=(10,4))\n",
        "sb1 = plt.subplot(1,3,1)\n",
        "plt.plot(np.arange(len(bp1)+2), np.ones(len(bp1)+2)*7, 'r--')\n",
        "bplot = plt.boxplot(bp1,labels=bp1label, whis='range', patch_artist=True)\n",
        "for patch in bplot['boxes']:\n",
        "        patch.set_facecolor('#F2F2F2')\n",
        "\n",
        "plt.xlabel('Tumor case number')\n",
        "plt.title('clearly low grade')\n",
        "plt.ylabel('MC')\n",
        "plt.grid(linestyle='--', color='#DDDDDD')\n",
        "plt.yticks([0,2,4,6,7,8,10,12])\n",
        "for k in np.arange(0,OFFSET1):\n",
        "    leg1 = plt.plot(k+0.75,expertRegionCountSorted[k]['BCVP1'], color='r', marker='*', zorder=10)[0]\n",
        "    leg2 = plt.plot(k+0.85,expertRegionCountSorted[k]['BCVP2'], color='r', marker='s', zorder=10)[0]\n",
        "    leg3 = plt.plot(k+0.95,expertRegionCountSorted[k]['BCVP4'], color='r', marker='o', zorder=10)[0]\n",
        "    leg4 = plt.plot(k+1.05,expertRegionCountSorted[k]['BCVP3'], color='r', marker='d', zorder=10)[0]\n",
        "    leg5 = plt.plot(k+0.85,expertRegionCountSorted[k]['BCVP5'], color='r', marker='X', zorder=10)[0]\n",
        "    leg6 = plt.plot(k+1.15,expertRegionCountSorted[k]['VPIT1'], color='b', marker='P', zorder=10)[0]\n",
        "    leg7 = plt.plot(k+0.85,expertRegionCountSorted[k]['VPIT2'], color='b', marker='p', zorder=10)[0]\n",
        "    leg8 = plt.plot(k+0.85,expertRegionCountSorted[k]['VPIT3'], color='b', marker=',', zorder=10)[0]\n",
        "    legA = plt.plot(k+1.25,expertRegionCountSorted[k]['AlgoReg'], color='c', marker='<', zorder=10)[0]\n",
        "    legD = plt.plot(k+1.05,expertRegionCountSorted[k]['AlgoMap'], color='c', marker='P', zorder=10)[0]\n",
        "    legB = plt.plot(k+0.75,expertRegionCountSorted[k]['AlgoOD1'], color='c', marker='>', zorder=10)[0]\n",
        "    legC = plt.plot(k+0.95,expertRegionCountSorted[k]['AlgoOD2'], color='c', marker='X', zorder=10)[0]\n",
        "    legF = plt.plot(k+1.05,expertRegionCountSorted[k]['AlgoOD2_10HPF'], linewidth=0, color='m', marker='X', zorder=5)[0]\n",
        "\n",
        "plt.subplots_adjust(left=0.05,right=0.85)\n",
        "\n",
        "sb2 = plt.subplot(1,3,2)\n",
        "plt.plot(np.arange(len(bp2)+2), np.ones(len(bp2)+2)*7, 'r--')\n",
        "bplot = plt.boxplot(bp2,labels=bp2label, whis='range',patch_artist=True)\n",
        "for patch in bplot['boxes']:\n",
        "        patch.set_facecolor('#F2F2F2')\n",
        "plt.xlabel('Tumor case number')\n",
        "plt.title('borderline')\n",
        "plt.yticks([0,7,25,50,75,100,125,150,175,200])\n",
        "plt.ylim([-5,200])\n",
        "\n",
        "plt.grid(linestyle='--', color='#DDDDDD')\n",
        "for k in np.arange(OFFSET1,OFFSET2):\n",
        "    leg1 = plt.plot(k+0.75-OFFSET1,expertRegionCountSorted[k]['BCVP1'], color='r', marker='*', zorder=10)\n",
        "    leg2 = plt.plot(k+0.85-OFFSET1,expertRegionCountSorted[k]['BCVP2'], color='r', marker='s', zorder=10)\n",
        "    leg3 = plt.plot(k+0.95-OFFSET1,expertRegionCountSorted[k]['BCVP4'], color='r', marker='o', zorder=10)\n",
        "    leg4 = plt.plot(k+1.05-OFFSET1,expertRegionCountSorted[k]['BCVP3'], color='r', marker='d', zorder=10)\n",
        "    leg5 = plt.plot(k+1.05-OFFSET1,expertRegionCountSorted[k]['BCVP5'], color='r', marker='X', zorder=10)\n",
        "    leg6 = plt.plot(k+1.15-OFFSET1,expertRegionCountSorted[k]['VPIT1'], color='b', marker='P', zorder=10)\n",
        "    leg7 = plt.plot(k+0.85-OFFSET1,expertRegionCountSorted[k]['VPIT2'], color='b', marker='p', zorder=10)\n",
        "    leg8 = plt.plot(k+0.85-OFFSET1,expertRegionCountSorted[k]['VPIT3'], color='b', marker='.', zorder=10)\n",
        "    legA = plt.plot(k+1.25-OFFSET1,expertRegionCountSorted[k]['AlgoReg'], color='c', marker='<', zorder=10)\n",
        "    legD = plt.plot(k+1.05-OFFSET1,expertRegionCountSorted[k]['AlgoMap'], color='c', marker='P', zorder=10)[0]\n",
        "    legB = plt.plot(k+0.75-OFFSET1,expertRegionCountSorted[k]['AlgoOD1'], color='c', marker='>', zorder=10)\n",
        "    legC = plt.plot(k+0.95-OFFSET1,expertRegionCountSorted[k]['AlgoOD2'], color='c', marker='X', zorder=10)[0]\n",
        "    legF = plt.plot(k+1.05-OFFSET1,expertRegionCountSorted[k]['AlgoOD2_10HPF'], linewidth=0, color='m', marker='X', zorder=5)[0]\n",
        "\n",
        "plt.yscale('symlog',linthreshy= 50)\n",
        "plt.yticks([0,7,25,50,75, 100], ['0','7','25','50','75', '100'])\n",
        "\n",
        "sb3 = plt.subplot(1,3,3)\n",
        "\n",
        "for k in np.arange(OFFSET2,32):\n",
        "    leg1 = fig.gca().plot(k+0.75-OFFSET2,expertRegionCountSorted[k]['BCVP1'], linewidth=0, color='r', marker='*', zorder=10)[0]\n",
        "    leg2 = fig.gca().plot(k+0.85-OFFSET2,expertRegionCountSorted[k]['BCVP2'], linewidth=0, color='r', marker='s', zorder=10)[0]\n",
        "    leg3 = fig.gca().plot(k+0.95-OFFSET2,expertRegionCountSorted[k]['BCVP4'], linewidth=0, color='r', marker='o', zorder=10)[0]\n",
        "    leg4 = fig.gca().plot(k+1.05-OFFSET2,expertRegionCountSorted[k]['BCVP3'], linewidth=0, color='r', marker='d', zorder=10)[0]\n",
        "    leg5 = fig.gca().plot(k+1.05-OFFSET2,expertRegionCountSorted[k]['BCVP5'], linewidth=0, color='r', marker='X', zorder=10)[0]\n",
        "    leg6 = fig.gca().plot(k+1.15-OFFSET2,expertRegionCountSorted[k]['VPIT1'], linewidth=0, color='b', marker='P', zorder=10)[0]\n",
        "    leg7 = fig.gca().plot(k+0.85-OFFSET2,expertRegionCountSorted[k]['VPIT2'], linewidth=0, color='b', marker='p', zorder=10)[0]\n",
        "    leg8 = fig.gca().plot(k+0.85-OFFSET2,expertRegionCountSorted[k]['VPIT3'], linewidth=0, color='b', marker='.', zorder=10)[0]\n",
        "    legA = fig.gca().plot(k+1.25-OFFSET2,expertRegionCountSorted[k]['AlgoReg'], linewidth=0, color='c', marker='<', zorder=10)[0]\n",
        "    legD = fig.gca().plot(k+1.05-OFFSET2,expertRegionCountSorted[k]['AlgoMap'], linewidth=0, color='c', marker='P', zorder=10)[0]\n",
        "    legB = fig.gca().plot(k+0.75-OFFSET2,expertRegionCountSorted[k]['AlgoOD1'], linewidth=0, color='c', marker='>', zorder=10)[0]\n",
        "    legC = fig.gca().plot(k+0.95-OFFSET2,expertRegionCountSorted[k]['AlgoOD2'], linewidth=0, color='c', marker='X', zorder=10)[0]\n",
        "    legF = fig.gca().plot(k+1.05-OFFSET2,expertRegionCountSorted[k]['AlgoOD2_10HPF'], linewidth=0, color='m', marker='X', zorder=5)[0]\n",
        "\n",
        "bplot = plt.boxplot(bp3,labels=bp3label, whis='range', patch_artist=True)\n",
        "for patch in bplot['boxes']:\n",
        "        patch.set_facecolor('#F2F2F2')\n",
        "\n",
        "plt.plot(np.arange(len(bp3)+2), np.ones(len(bp3)+2)*7, 'r--')\n",
        "plt.yticks([0,7,25,50,75,100,150,200,250,300])\n",
        "plt.ylim()\n",
        "plt.xlabel('Tumor case number')\n",
        "plt.title('clearly high grade')\n",
        "plt.grid(linestyle='--', color='#DDDDDD')\n",
        "\n",
        "\n",
        "plt.legend((leg1,leg2, leg3, leg4, leg5,leg6,leg7, leg8, legA,legD, legB, legC, legF),('BCVP1','BCVP2','BCVP3','BCVP4','BCVP5', 'VPIT1','VPIT2', 'VPIT3','Regression','Segmentation','OD-Stage1', 'OD-Stage2','OD2-10HPF'),\n",
        "   loc='upper right', bbox_to_anchor=(1.55, 0.8))\n",
        "plt.yscale('symlog',linthreshy= 100)\n",
        "plt.yticks([0,7,25,50,75, 100,150,200], ['0','7','25','50','75', '100','150', '200'])\n",
        "\n",
        "plt.tight_layout()\n",
        "plt.savefig('Region_results.pdf')\n",
        "\n",
        "\n",
        "for k in range(len(testslides)):\n",
        "        print('ID ',k,':',testslides[argsorted[k]])\n",
        "        print('   ',','.join(['%s:%d' % (exp, expertRegionCountSorted[k][exp]) for exp in expertRegionCountSorted[k].keys()]))\n",
        "\n"
      ]
    },
    {
      "cell_type": "markdown",
      "metadata": {
        "id": "oj-Jr7tIPL07"
      },
      "source": [
        "## Some Statistical analysis"
      ]
    },
    {
      "cell_type": "code",
      "execution_count": null,
      "metadata": {
        "id": "L9dFvTAdPL07",
        "outputId": "bd498326-6243-486f-d5b3-6fe7cb2516d7"
      },
      "outputs": [
        {
          "name": "stderr",
          "output_type": "stream",
          "text": [
            "/usr/local/lib/python3.6/dist-packages/statsmodels/tools/_testing.py:19: FutureWarning: pandas.util.testing is deprecated. Use the functions in the public API at pandas.testing instead.\n",
            "  import pandas.util.testing as tm\n"
          ]
        },
        {
          "name": "stdout",
          "output_type": "stream",
          "text": [
            "                       sum_sq     df        F  PR(>F)\n",
            "C(TumorCase)      497050.8594   31.0  71.4650  0.0000\n",
            "C(IsExpertGroup)      30.4594    1.0   0.1358  0.7129\n",
            "Residual           50032.2906  223.0      NaN     NaN\n"
          ]
        },
        {
          "data": {
            "image/png": "[encoded data removed]",
            "text/plain": [
              "<Figure size 432x288 with 1 Axes>"
            ]
          },
          "metadata": {},
          "output_type": "display_data"
        }
      ],
      "source": [
        "import statsmodels.api as sm\n",
        "from statsmodels.formula.api import ols\n",
        "from statsmodels.stats.anova import anova_lm\n",
        "from statsmodels.graphics.factorplots import interaction_plot\n",
        "import matplotlib.pyplot as plt\n",
        "from scipy import stats\n",
        "\n",
        "\n",
        "#group1: Non-Experts\n",
        "group1_box = [[expertRegionCountSorted[x]['VPIT1'], expertRegionCountSorted[x]['VPIT2'], expertRegionCountSorted[x]['VPIT3']] for x in range(len(expertRegionCountSorted))]\n",
        "#Group2: Experts\n",
        "group2_box = [[expertRegionCountSorted[x]['BCVP1'], expertRegionCountSorted[x]['BCVP2'], expertRegionCountSorted[x]['BCVP3'], expertRegionCountSorted[x]['BCVP4'], expertRegionCountSorted[x]['BCVP5']] for x in range(len(expertRegionCountSorted))]\n",
        "\n",
        "idx_group1 = [[[x]*3] for x in range(len(expertRegionCountSorted))]\n",
        "idx_group2 = [[[x]*5] for x in range(len(expertRegionCountSorted))]\n",
        "\n",
        "\n",
        "# dependent variables\n",
        "group1 = np.array(group1_box).flatten().tolist()\n",
        "group2 = np.array(group2_box).flatten().tolist()\n",
        "outputs = group1+group2\n",
        "\n",
        "# independent variables\n",
        "idx1 = np.array(idx_group1).flatten().tolist()\n",
        "idx2 = np.array(idx_group2).flatten().tolist()\n",
        "idxs = idx1+idx2\n",
        "\n",
        "groups = ([0]*len(group1))+([1]*len(group2))\n",
        "import pandas as pd\n",
        "\n",
        "#data = pd.DataFrame(data=list(zip(outputs,idxs,groups)), columns=['MC','TumorCase','IsExpertGroup'])\n",
        "\n",
        "raters = [1,2,3]*32 + [4,5,6,7,8]*32\n",
        "data = pd.DataFrame(data=list(zip(outputs,idxs,groups,raters)), columns=['MC','TumorCase','IsExpertGroup','Rater'])\n",
        "\n",
        "fig = interaction_plot(data.TumorCase, data.IsExpertGroup, data.MC,\n",
        "             colors=['red','blue'], markers=['D','^'], ms=10)\n",
        "\n",
        "plt.savefig('interaction.pdf')\n",
        "\n",
        "formula = 'MC ~ C(TumorCase) + C(IsExpertGroup) '\n",
        "model = ols(formula, data).fit()\n",
        "aov_table = anova_lm(model, typ=2)\n",
        "\n",
        "print(aov_table.round(4))\n",
        "\n"
      ]
    },
    {
      "cell_type": "code",
      "execution_count": null,
      "metadata": {
        "id": "Tkbf6qZ4PL07",
        "outputId": "97591558-ed90-4826-f81b-89dcb46a2558"
      },
      "outputs": [
        {
          "name": "stdout",
          "output_type": "stream",
          "text": [
            "Fleiss kappa MC above threshold, VPIT:  0.7129186602870812\n",
            "Fleiss kappa,MC above threshold, BVCP:  0.8217468805704098\n"
          ]
        }
      ],
      "source": [
        "dataSG1 = data[(data.TumorCase<11) ]\n",
        "dataSG2 = data[(data.TumorCase>=11) & (data.TumorCase<21)]\n",
        "dataSG3 = data[(data.TumorCase>=21)]\n",
        "\n",
        "combined = pd.DataFrame([(dataSG2.MC[(dataSG2.Rater==k+1)]>=7).to_numpy() for k in range(3)])\n",
        "grading = np.array([np.sum(np.uint(combined.to_numpy())==0,0), np.sum(np.uint(combined.to_numpy())==1,0)])\n",
        "from statsmodels.stats.inter_rater import fleiss_kappa\n",
        "print('Fleiss kappa MC above threshold, VPIT: ',fleiss_kappa(grading.T))\n",
        "combined = pd.DataFrame([(dataSG2.MC[(dataSG2.Rater==k+1)]>=7).to_numpy() for k in np.arange(3,8)])\n",
        "grading = np.array([np.sum(np.uint(combined.to_numpy())==0,0), np.sum(np.uint(combined.to_numpy())==1,0)])\n",
        "from statsmodels.stats.inter_rater import fleiss_kappa\n",
        "print('Fleiss kappa,MC above threshold, BVCP: ',fleiss_kappa(grading.T))\n",
        "\n"
      ]
    },
    {
      "cell_type": "code",
      "execution_count": null,
      "metadata": {
        "id": "BfuhwvxvPL08",
        "outputId": "8a3b0aaa-1821-4d5d-bc71-fe104ad094fb"
      },
      "outputs": [
        {
          "data": {
            "text/html": [
              "<div>\n",
              "<style scoped>\n",
              "    .dataframe tbody tr th:only-of-type {\n",
              "        vertical-align: middle;\n",
              "    }\n",
              "\n",
              "    .dataframe tbody tr th {\n",
              "        vertical-align: top;\n",
              "    }\n",
              "\n",
              "    .dataframe thead th {\n",
              "        text-align: right;\n",
              "    }\n",
              "</style>\n",
              "<table border=\"1\" class=\"dataframe\">\n",
              "  <thead>\n",
              "    <tr style=\"text-align: right;\">\n",
              "      <th></th>\n",
              "      <th>MC</th>\n",
              "      <th>TumorCase</th>\n",
              "      <th>IsExpertGroup</th>\n",
              "      <th>Rater</th>\n",
              "    </tr>\n",
              "  </thead>\n",
              "  <tbody>\n",
              "    <tr>\n",
              "      <th>0</th>\n",
              "      <td>1.0</td>\n",
              "      <td>0</td>\n",
              "      <td>0</td>\n",
              "      <td>1</td>\n",
              "    </tr>\n",
              "    <tr>\n",
              "      <th>1</th>\n",
              "      <td>-0.0</td>\n",
              "      <td>0</td>\n",
              "      <td>0</td>\n",
              "      <td>2</td>\n",
              "    </tr>\n",
              "    <tr>\n",
              "      <th>2</th>\n",
              "      <td>-0.0</td>\n",
              "      <td>0</td>\n",
              "      <td>0</td>\n",
              "      <td>3</td>\n",
              "    </tr>\n",
              "    <tr>\n",
              "      <th>3</th>\n",
              "      <td>1.0</td>\n",
              "      <td>1</td>\n",
              "      <td>0</td>\n",
              "      <td>1</td>\n",
              "    </tr>\n",
              "    <tr>\n",
              "      <th>4</th>\n",
              "      <td>-0.0</td>\n",
              "      <td>1</td>\n",
              "      <td>0</td>\n",
              "      <td>2</td>\n",
              "    </tr>\n",
              "    <tr>\n",
              "      <th>...</th>\n",
              "      <td>...</td>\n",
              "      <td>...</td>\n",
              "      <td>...</td>\n",
              "      <td>...</td>\n",
              "    </tr>\n",
              "    <tr>\n",
              "      <th>251</th>\n",
              "      <td>78.0</td>\n",
              "      <td>31</td>\n",
              "      <td>1</td>\n",
              "      <td>4</td>\n",
              "    </tr>\n",
              "    <tr>\n",
              "      <th>252</th>\n",
              "      <td>124.0</td>\n",
              "      <td>31</td>\n",
              "      <td>1</td>\n",
              "      <td>5</td>\n",
              "    </tr>\n",
              "    <tr>\n",
              "      <th>253</th>\n",
              "      <td>110.0</td>\n",
              "      <td>31</td>\n",
              "      <td>1</td>\n",
              "      <td>6</td>\n",
              "    </tr>\n",
              "    <tr>\n",
              "      <th>254</th>\n",
              "      <td>112.0</td>\n",
              "      <td>31</td>\n",
              "      <td>1</td>\n",
              "      <td>7</td>\n",
              "    </tr>\n",
              "    <tr>\n",
              "      <th>255</th>\n",
              "      <td>129.0</td>\n",
              "      <td>31</td>\n",
              "      <td>1</td>\n",
              "      <td>8</td>\n",
              "    </tr>\n",
              "  </tbody>\n",
              "</table>\n",
              "<p>256 rows × 4 columns</p>\n",
              "</div>"
            ],
            "text/plain": [
              "        MC  TumorCase  IsExpertGroup  Rater\n",
              "0      1.0          0              0      1\n",
              "1     -0.0          0              0      2\n",
              "2     -0.0          0              0      3\n",
              "3      1.0          1              0      1\n",
              "4     -0.0          1              0      2\n",
              "..     ...        ...            ...    ...\n",
              "251   78.0         31              1      4\n",
              "252  124.0         31              1      5\n",
              "253  110.0         31              1      6\n",
              "254  112.0         31              1      7\n",
              "255  129.0         31              1      8\n",
              "\n",
              "[256 rows x 4 columns]"
            ]
          },
          "execution_count": 12,
          "metadata": {},
          "output_type": "execute_result"
        }
      ],
      "source": [
        "data"
      ]
    },
    {
      "cell_type": "code",
      "execution_count": null,
      "metadata": {
        "id": "CzZ65YPiPL08"
      },
      "outputs": [],
      "source": [
        "upperquartiles = np.array([np.percentile(case,75) for case in bpSorted])\n",
        "medium = np.array([np.percentile(case,50) for case in bpSorted])\n"
      ]
    },
    {
      "cell_type": "code",
      "execution_count": null,
      "metadata": {
        "id": "gZtAF0ajPL08"
      },
      "outputs": [],
      "source": [
        "data = pd.DataFrame(data=list(zip(outputs,idxs,groups,raters,upperquartiles[data.TumorCase], medium[data.TumorCase])), columns=['MC','TumorCase','IsExpertGroup','Rater', '75pct quartile', 'medium'])\n"
      ]
    },
    {
      "cell_type": "code",
      "execution_count": null,
      "metadata": {
        "id": "mUcZqaYgPL08"
      },
      "outputs": [],
      "source": [
        "algos = [[expertRegionCountSorted[x]['AlgoMap'], expertRegionCountSorted[x]['AlgoReg'], expertRegionCountSorted[x]['AlgoOD2']] for x in range(len(expertRegionCountSorted))]\n",
        "\n",
        "raters = [1,2,3]*32\n",
        "idxs = np.array([[[x]*3] for x in range(len(expertRegionCountSorted))]).flatten().tolist()\n",
        "\n",
        "outputs = np.array(algos).flatten().tolist()\n",
        "\n",
        "dataAlgos = pd.DataFrame(data=list(zip(outputs,idxs,raters)), columns=['MC','TumorCase','Rater'])\n",
        "dataAlgos = pd.DataFrame(data=list(zip(outputs,idxs,groups,raters,upperquartiles[dataAlgos.TumorCase], medium[dataAlgos.TumorCase])), columns=['MC','TumorCase','IsExpertGroup','Rater', '75pct quartile', 'medium'])\n"
      ]
    },
    {
      "cell_type": "code",
      "execution_count": null,
      "metadata": {
        "id": "hLfFlWd8PL08",
        "outputId": "1b7701c6-4e60-4a56-e6d8-5cdcd84462de"
      },
      "outputs": [
        {
          "data": {
            "image/png": "[encoded data removed]",
            "text/plain": [
              "<Figure size 720x288 with 2 Axes>"
            ]
          },
          "metadata": {},
          "output_type": "display_data"
        }
      ],
      "source": [
        "import scipy.stats \n",
        "def mean_confidence_interval(data, confidence=0.95):\n",
        "    a = 1.0 * np.array(data)\n",
        "    n = len(a)\n",
        "    m, se = np.mean(a), scipy.stats.sem(a)\n",
        "    h = se * scipy.stats.t.ppf((1 + confidence) / 2., n-1)\n",
        "    return 100*m, 100*(m-h), 100*(m+h)\n",
        "\n",
        "\n",
        "fig, axs = plt.subplots(1,2, figsize=(10,4))\n",
        "\n",
        "ax=axs[0]\n",
        "\n",
        "for rater in np.arange(1,4):\n",
        "    m,ci5,ci95 = mean_confidence_interval((data.MC>data['medium'])[data.Rater==rater].to_numpy())\n",
        "    ax.plot([ci5,ci95],[rater]*2,'b')\n",
        "    ax.plot([ci5],[rater],'|b',markersize=16)\n",
        "    ax.plot([ci95],[rater],'|b',markersize=16)\n",
        "    ax.plot([m],[rater],'db',markersize=16)    \n",
        "\n",
        "for rater in np.arange(4,9):\n",
        "    m,ci5,ci95 = mean_confidence_interval((data.MC>data['medium'])[data.Rater==rater].to_numpy())\n",
        "    ax.plot([ci5,ci95],[rater]*2,'r')\n",
        "    ax.plot([ci5],[rater],'|r',markersize=16)\n",
        "    ax.plot([ci95],[rater],'|r',markersize=16)\n",
        "    ax.plot([m],[rater],'dr',markersize=16)    \n",
        "\n",
        "for rater in np.arange(1,4):\n",
        "    m,ci5,ci95 = mean_confidence_interval((dataAlgos.MC>dataAlgos['medium'])[dataAlgos.Rater==rater].to_numpy())\n",
        "    ax.plot([ci5,ci95],[rater+8]*2,'c')\n",
        "    ax.plot([ci5],[rater+8],'|c',markersize=16)\n",
        "    ax.plot([ci95],[rater+8],'|c',markersize=16)\n",
        "    ax.plot([m],[rater+8],'dc',markersize=16)\n",
        "    \n",
        "ax.set_xlabel('percentage of being in the upper 50% of MC distribution')\n",
        "ax.set_yticks(np.arange(1,12))\n",
        "ax.set_yticklabels(['VPIT%d'%k for k in np.arange(1,4)]+['BCVP%d'%k for k in np.arange(1,6)]+['Segmentation','Regression','OD-Stage2'])\n",
        "ax.set_xlim([-5,105])\n",
        "\n",
        "ax.grid()\n",
        "\n",
        "\n",
        "ax=axs[1]\n",
        "\n",
        "for rater in np.arange(1,4):\n",
        "    m,ci5,ci95 = mean_confidence_interval((data.MC>data['75pct quartile'])[data.Rater==rater].to_numpy())\n",
        "    ax.plot([ci5,ci95],[rater]*2,'b')\n",
        "    ax.plot([ci5],[rater],'|b',markersize=16)\n",
        "    ax.plot([ci95],[rater],'|b',markersize=16)\n",
        "    ax.plot([m],[rater],'db',markersize=16)    \n",
        "\n",
        "for rater in np.arange(4,9):\n",
        "    m,ci5,ci95 = mean_confidence_interval((data.MC>data['75pct quartile'])[data.Rater==rater].to_numpy())\n",
        "    ax.plot([ci5,ci95],[rater]*2,'r')\n",
        "    ax.plot([ci5],[rater],'|r',markersize=16)\n",
        "    ax.plot([ci95],[rater],'|r',markersize=16)\n",
        "    ax.plot([m],[rater],'dr',markersize=16)    \n",
        "    \n",
        "for rater in np.arange(1,4):\n",
        "    m,ci5,ci95 = mean_confidence_interval((dataAlgos.MC>dataAlgos['75pct quartile'])[dataAlgos.Rater==rater].to_numpy())\n",
        "    ax.plot([ci5,ci95],[rater+8]*2,'c')\n",
        "    ax.plot([ci5],[rater+8],'|c',markersize=16)\n",
        "    ax.plot([ci95],[rater+8],'|c',markersize=16)\n",
        "    ax.plot([m],[rater+8],'dc',markersize=16)\n",
        "    \n",
        "ax.set_xlabel('percentage of being in the upper 25% of MC distribution')\n",
        "ax.set_yticks(np.arange(1,12))\n",
        "ax.set_yticklabels(['VPIT%d'%k for k in np.arange(1,4)]+['BCVP%d'%k for k in np.arange(1,6)]+['Segmentation','Regression','OD-Stage2'])\n",
        "ax.set_xlim([-5,105])\n",
        "ax.grid()\n",
        "\n",
        "\n",
        "plt.tight_layout()\n",
        "plt.savefig('Figure7.pdf')"
      ]
    },
    {
      "cell_type": "code",
      "execution_count": null,
      "metadata": {
        "id": "kTQncDprPL08"
      },
      "outputs": [],
      "source": []
    },
    {
      "cell_type": "code",
      "execution_count": null,
      "metadata": {
        "id": "TvtXK4vMPL08"
      },
      "outputs": [],
      "source": []
    }
  ],
  "metadata": {
    "colab": {
      "provenance": [],
      "include_colab_link": true
    },
    "kernelspec": {
      "display_name": "Python 3",
      "language": "python",
      "name": "python3"
    },
    "language_info": {
      "codemirror_mode": {
        "name": "ipython",
        "version": 3
      },
      "file_extension": ".py",
      "mimetype": "text/x-python",
      "name": "python",
      "nbconvert_exporter": "python",
      "pygments_lexer": "ipython3",
      "version": "3.6.9"
    }
  },
  "nbformat": 4,
  "nbformat_minor": 0
}