{
  "cells": [
    {
      "cell_type": "markdown",
      "metadata": {
        "id": "view-in-github",
        "colab_type": "text"
      },
      "source": [
        "<a href=\"https://colab.research.google.com/github/crimefightingllama/MITOS_WSI_CCMCT/blob/master/Copy_of_Setup.ipynb\" target=\"_parent\"><img src=\"https://colab.research.google.com/assets/colab-badge.svg\" alt=\"Open In Colab\"/></a>"
      ]
    },
    {
      "cell_type": "markdown",
      "metadata": {
        "id": "RimlLcGO0ovl"
      },
      "source": [
        "# Set up notebook to download the data set\n",
        "\n",
        "This notebook will download"
      ]
    },
    {
      "cell_type": "code",
      "source": [
        "!git clone https://github.com/crimefightingllama/MITOS_WSI_CCMCT\n",
        "%pwd"
      ],
      "metadata": {
        "id": "vGwOZ2ji1NZL",
        "outputId": "91e486e1-3e2f-4aac-d00c-a6051784e68a",
        "colab": {
          "base_uri": "https://localhost:8080/",
          "height": 175
        }
      },
      "execution_count": null,
      "outputs": [
        {
          "output_type": "stream",
          "name": "stdout",
          "text": [
            "Cloning into 'MITOS_WSI_CCMCT'...\n",
            "remote: Enumerating objects: 321, done.\u001b[K\n",
            "remote: Counting objects: 100% (18/18), done.\u001b[K\n",
            "remote: Compressing objects: 100% (9/9), done.\u001b[K\n",
            "remote: Total 321 (delta 7), reused 18 (delta 7), pack-reused 303\u001b[K\n",
            "Receiving objects: 100% (321/321), 876.54 MiB | 22.82 MiB/s, done.\n",
            "Resolving deltas: 100% (134/134), done.\n",
            "Updating files: 100% (137/137), done.\n"
          ]
        },
        {
          "output_type": "execute_result",
          "data": {
            "text/plain": [
              "'/content'"
            ],
            "application/vnd.google.colaboratory.intrinsic+json": {
              "type": "string"
            }
          },
          "metadata": {},
          "execution_count": 1
        }
      ]
    },
    {
      "cell_type": "code",
      "source": [
        "%cd MITOS_WSI_CCMCT/"
      ],
      "metadata": {
        "id": "M45KUhLu4FkL",
        "colab": {
          "base_uri": "https://localhost:8080/"
        },
        "outputId": "085655dc-f9ea-471c-a589-af0a1a4a687f"
      },
      "execution_count": null,
      "outputs": [
        {
          "output_type": "stream",
          "name": "stdout",
          "text": [
            "/content/MITOS_WSI_CCMCT\n"
          ]
        }
      ]
    },
    {
      "cell_type": "code",
      "execution_count": null,
      "metadata": {
        "id": "k3ZAwWrX0ovp",
        "outputId": "a197abb8-f91a-4f30-be58-8ce5b1cb5c05",
        "colab": {
          "base_uri": "https://localhost:8080/"
        }
      },
      "outputs": [
        {
          "output_type": "stream",
          "name": "stdout",
          "text": [
            "Downloading all files from figshare - take a coffee and sit down, this will take some while, we are downloading above 44GB ...\n"
          ]
        },
        {
          "output_type": "stream",
          "name": "stderr",
          "text": [
            "100%|██████████| 36/36 [1:10:36<00:00, 117.69s/it]\n"
          ]
        }
      ],
      "source": [
        "import urllib.request\n",
        "import os\n",
        "from tqdm import tqdm\n",
        "downloadableFiles = {'databases/MITOS_WSI_CCMCT_Tumorzone.sqlite': \n",
        "                          'https://ndownloader.figshare.com/files/16261586?private_link=a82ddb634864c24f4aee' ,\n",
        "                     'databases/MITOS_WSI_CCMCT_ODAEL.sqlite':\n",
        "                          'https://ndownloader.figshare.com/files/16261571?private_link=a82ddb634864c24f4aee' ,\n",
        "                     'databases/MITOS_WSI_CCMCT_HEAEL.sqlite':\n",
        "                          'https://ndownloader.figshare.com/files/16261583?private_link=a82ddb634864c24f4aee' ,\n",
        "                     'databases/MITOS_WSI_CCMCT_MEL.sqlite':\n",
        "                          'https://ndownloader.figshare.com/files/16261574?private_link=a82ddb634864c24f4aee' ,\n",
        "                     'WSI/96274538c93980aad8d6.svs': # 3\n",
        "                          'https://ndownloader.figshare.com/files/16261559?private_link=a82ddb634864c24f4aee', \n",
        "                     'WSI/1018715d369dd0df2fc0.svs': # 20\n",
        "                          'https://ndownloader.figshare.com/files/16261562?private_link=a82ddb634864c24f4aee',\n",
        "                     'WSI/9374efe6ac06388cc877.svs': # 26\n",
        "                          'https://ndownloader.figshare.com/files/16261553?private_link=a82ddb634864c24f4aee',\n",
        "                     'WSI/552c51bfb88fd3e65ffe.svs': # 27\n",
        "                          'https://ndownloader.figshare.com/files/16261556?private_link=a82ddb634864c24f4aee',\n",
        "                     'WSI/285f74bb6be025a676b6.svs': # 29\n",
        "                          'https://ndownloader.figshare.com/files/16261550?private_link=a82ddb634864c24f4aee',\n",
        "                     'WSI/91a8e57ea1f9cb0aeb63.svs': # 24\n",
        "                          'https://ndownloader.figshare.com/files/16261544?private_link=a82ddb634864c24f4aee',\n",
        "                     'WSI/70ed18cd5f806cf396f0.svs': # 35\n",
        "                          'https://ndownloader.figshare.com/files/16261541?private_link=a82ddb634864c24f4aee',\n",
        "                     'WSI/066c94c4c161224077a9.svs': # 25 \n",
        "                          'https://ndownloader.figshare.com/files/16261547?private_link=a82ddb634864c24f4aee',\n",
        "                     'WSI/39ecf7f94ed96824405d.svs': # 19\n",
        "                          'https://ndownloader.figshare.com/files/16261529?private_link=a82ddb634864c24f4aee',\n",
        "                     'WSI/34eb28ce68c1106b2bac.svs': # 14\n",
        "                          'https://ndownloader.figshare.com/files/16261538?private_link=a82ddb634864c24f4aee',\n",
        "                     'WSI/20c0753af38303691b27.svs': # 21\n",
        "                          'https://ndownloader.figshare.com/files/16261532?private_link=a82ddb634864c24f4aee',\n",
        "                     'WSI/3f2e034c75840cb901e6.svs': # 15\n",
        "                          'https://ndownloader.figshare.com/files/16261505?private_link=a82ddb634864c24f4aee',\n",
        "                     'WSI/2efb541724b5c017c503.svs': #22 \n",
        "                          'https://ndownloader.figshare.com/files/16261520?private_link=a82ddb634864c24f4aee',\n",
        "                     'WSI/2f2591b840e83a4b4358.svs':#23\n",
        "                          'https://ndownloader.figshare.com/files/16261514?private_link=a82ddb634864c24f4aee',\n",
        "                     'WSI/8bebdd1f04140ed89426.svs': # 17\n",
        "                          'https://ndownloader.figshare.com/files/16261523?private_link=a82ddb634864c24f4aee',\n",
        "                     'WSI/8c9f9618fcaca747b7c3.svs': # 9\n",
        "                          'https://ndownloader.figshare.com/files/16261526?private_link=a82ddb634864c24f4aee',\n",
        "                     'WSI/2f17d43b3f9e7dacf24c.svs': # 8\n",
        "                          'https://ndownloader.figshare.com/files/16261535?private_link=a82ddb634864c24f4aee',\n",
        "                     'WSI/f3741e764d39ccc4d114.svs': # 31\n",
        "                          'https://ndownloader.figshare.com/files/16261493?private_link=a82ddb634864c24f4aee',\n",
        "                     'WSI/fff27b79894fe0157b08.svs': # 7\n",
        "                          'https://ndownloader.figshare.com/files/16261490?private_link=a82ddb634864c24f4aee',\n",
        "                     'WSI/f26e9fcef24609b988be.svs': # 6\n",
        "                          'https://ndownloader.figshare.com/files/16261496?private_link=a82ddb634864c24f4aee',\n",
        "                     'WSI/dd4246ab756f6479c841.svs': # 18\n",
        "                          'https://ndownloader.figshare.com/files/16261487?private_link=a82ddb634864c24f4aee',\n",
        "                     'WSI/c3eb4b8382b470dd63a9.svs': # 4\n",
        "                          'https://ndownloader.figshare.com/files/16261466?private_link=a82ddb634864c24f4aee',\n",
        "                     'WSI/c86cd41f96331adf3856.svs': # 30\n",
        "                          'https://ndownloader.figshare.com/files/16261475?private_link=a82ddb634864c24f4aee',\n",
        "                     'WSI/c91a842257ed2add5134.svs': # 1\n",
        "                          'https://ndownloader.figshare.com/files/16261481?private_link=a82ddb634864c24f4aee',\n",
        "                     'WSI/dd6dd0d54b81ebc59c77.svs': # 28\n",
        "                          'https://ndownloader.figshare.com/files/16261478?private_link=a82ddb634864c24f4aee',\n",
        "                     'WSI/be10fa37ad6e88e1f406.svs': # 11\n",
        "                          'https://ndownloader.figshare.com/files/16261469?private_link=a82ddb634864c24f4aee',\n",
        "                     'WSI/ce949341ba99845813ac.svs': # 34\n",
        "                          'https://ndownloader.figshare.com/files/16261484?private_link=a82ddb634864c24f4aee',\n",
        "                     'WSI/a0c8b612fe0655eab3ce.svs': # 13\n",
        "                          'https://ndownloader.figshare.com/files/16261424?private_link=a82ddb634864c24f4aee',\n",
        "                     'WSI/add0a9bbc53d1d9bac4c.svs': # 2\n",
        "                          'https://ndownloader.figshare.com/files/16261436?private_link=a82ddb634864c24f4aee',\n",
        "                     'WSI/2e611073cff18d503cea.svs': # 32\n",
        "                          'https://ndownloader.figshare.com/files/16261439?private_link=a82ddb634864c24f4aee',\n",
        "                     'WSI/0e56fd11a762be0983f0.svs': # 31\n",
        "                          'https://ndownloader.figshare.com/files/16261442?private_link=a82ddb634864c24f4aee',\n",
        "                     'WSI/ac1168b2c893d2acad38.svs': # 12\n",
        "                          'https://ndownloader.figshare.com/files/16261445?private_link=a82ddb634864c24f4aee',\n",
        "                    }\n",
        "\n",
        "# Create folder for WSI if nonexistant\n",
        "if not os.path.isdir('WSI'):\n",
        "    os.mkdir('WSI')\n",
        "\n",
        "tqdm.write('Downloading all files from figshare - take a coffee and sit down, this will take some while, we are downloading above 44GB ...')\n",
        "    \n",
        "\n",
        "from time import sleep    \n",
        "sleep(0.5)\n",
        "\n",
        "import requests\n",
        "\n",
        "                    \n",
        "for fname in tqdm(list(downloadableFiles.keys())):\n",
        "    urllib.request.urlretrieve(downloadableFiles[fname],fname)\n"
      ]
    },
    {
      "cell_type": "code",
      "source": [
        "!git push"
      ],
      "metadata": {
        "id": "zId3YI6l0u40",
        "outputId": "428d5bd5-9f56-45eb-89e2-9ad2c935e04e",
        "colab": {
          "base_uri": "https://localhost:8080/"
        }
      },
      "execution_count": null,
      "outputs": [
        {
          "output_type": "stream",
          "name": "stdout",
          "text": [
            "fatal: could not read Username for 'https://github.com': No such device or address\n"
          ]
        }
      ]
    },
    {
      "cell_type": "code",
      "source": [
        "%pwd"
      ],
      "metadata": {
        "id": "UzrD0dqb1E_G",
        "outputId": "ed02c3ae-c8c6-4040-e7bc-2153c614dd35",
        "colab": {
          "base_uri": "https://localhost:8080/",
          "height": 36
        }
      },
      "execution_count": null,
      "outputs": [
        {
          "output_type": "execute_result",
          "data": {
            "text/plain": [
              "'/content/MITOS_WSI_CCMCT'"
            ],
            "application/vnd.google.colaboratory.intrinsic+json": {
              "type": "string"
            }
          },
          "metadata": {},
          "execution_count": 15
        }
      ]
    },
    {
      "cell_type": "code",
      "source": [
        "from google.colab import drive\n",
        "drive.mount('/content/MITOS_WSI_CCMCT/WSI')\n"
      ],
      "metadata": {
        "id": "BLrewA5X4eDA",
        "colab": {
          "base_uri": "https://localhost:8080/",
          "height": 328
        },
        "outputId": "dea1adb0-9c73-4ad8-cf33-17c3e68c5e35"
      },
      "execution_count": null,
      "outputs": [
        {
          "output_type": "error",
          "ename": "ValueError",
          "evalue": "ignored",
          "traceback": [
            "\u001b[0;31m---------------------------------------------------------------------------\u001b[0m",
            "\u001b[0;31mValueError\u001b[0m                                Traceback (most recent call last)",
            "\u001b[0;32m<ipython-input-12-a6ee5bda8b5f>\u001b[0m in \u001b[0;36m<cell line: 2>\u001b[0;34m()\u001b[0m\n\u001b[1;32m      1\u001b[0m \u001b[0;32mfrom\u001b[0m \u001b[0mgoogle\u001b[0m\u001b[0;34m.\u001b[0m\u001b[0mcolab\u001b[0m \u001b[0;32mimport\u001b[0m \u001b[0mdrive\u001b[0m\u001b[0;34m\u001b[0m\u001b[0;34m\u001b[0m\u001b[0m\n\u001b[0;32m----> 2\u001b[0;31m \u001b[0mdrive\u001b[0m\u001b[0;34m.\u001b[0m\u001b[0mmount\u001b[0m\u001b[0;34m(\u001b[0m\u001b[0;34m'/content/MITOS_WSI_CCMCT/WSI'\u001b[0m\u001b[0;34m)\u001b[0m\u001b[0;34m\u001b[0m\u001b[0;34m\u001b[0m\u001b[0m\n\u001b[0m",
            "\u001b[0;32m/usr/local/lib/python3.9/dist-packages/google/colab/drive.py\u001b[0m in \u001b[0;36mmount\u001b[0;34m(mountpoint, force_remount, timeout_ms, readonly)\u001b[0m\n\u001b[1;32m    101\u001b[0m \u001b[0;32mdef\u001b[0m \u001b[0mmount\u001b[0m\u001b[0;34m(\u001b[0m\u001b[0mmountpoint\u001b[0m\u001b[0;34m,\u001b[0m \u001b[0mforce_remount\u001b[0m\u001b[0;34m=\u001b[0m\u001b[0;32mFalse\u001b[0m\u001b[0;34m,\u001b[0m \u001b[0mtimeout_ms\u001b[0m\u001b[0;34m=\u001b[0m\u001b[0;36m120000\u001b[0m\u001b[0;34m,\u001b[0m \u001b[0mreadonly\u001b[0m\u001b[0;34m=\u001b[0m\u001b[0;32mFalse\u001b[0m\u001b[0;34m)\u001b[0m\u001b[0;34m:\u001b[0m\u001b[0;34m\u001b[0m\u001b[0;34m\u001b[0m\u001b[0m\n\u001b[1;32m    102\u001b[0m   \u001b[0;34m\"\"\"Mount your Google Drive at the specified mountpoint path.\"\"\"\u001b[0m\u001b[0;34m\u001b[0m\u001b[0;34m\u001b[0m\u001b[0m\n\u001b[0;32m--> 103\u001b[0;31m   return _mount(\n\u001b[0m\u001b[1;32m    104\u001b[0m       \u001b[0mmountpoint\u001b[0m\u001b[0;34m,\u001b[0m\u001b[0;34m\u001b[0m\u001b[0;34m\u001b[0m\u001b[0m\n\u001b[1;32m    105\u001b[0m       \u001b[0mforce_remount\u001b[0m\u001b[0;34m=\u001b[0m\u001b[0mforce_remount\u001b[0m\u001b[0;34m,\u001b[0m\u001b[0;34m\u001b[0m\u001b[0;34m\u001b[0m\u001b[0m\n",
            "\u001b[0;32m/usr/local/lib/python3.9/dist-packages/google/colab/drive.py\u001b[0m in \u001b[0;36m_mount\u001b[0;34m(mountpoint, force_remount, timeout_ms, ephemeral, readonly)\u001b[0m\n\u001b[1;32m    192\u001b[0m       \u001b[0;32mraise\u001b[0m \u001b[0mValueError\u001b[0m\u001b[0;34m(\u001b[0m\u001b[0;34m'Mountpoint must not be a symlink'\u001b[0m\u001b[0;34m)\u001b[0m\u001b[0;34m\u001b[0m\u001b[0;34m\u001b[0m\u001b[0m\n\u001b[1;32m    193\u001b[0m     \u001b[0;32mif\u001b[0m \u001b[0m_os\u001b[0m\u001b[0;34m.\u001b[0m\u001b[0mpath\u001b[0m\u001b[0;34m.\u001b[0m\u001b[0misdir\u001b[0m\u001b[0;34m(\u001b[0m\u001b[0mmountpoint\u001b[0m\u001b[0;34m)\u001b[0m \u001b[0;32mand\u001b[0m \u001b[0m_os\u001b[0m\u001b[0;34m.\u001b[0m\u001b[0mlistdir\u001b[0m\u001b[0;34m(\u001b[0m\u001b[0mmountpoint\u001b[0m\u001b[0;34m)\u001b[0m\u001b[0;34m:\u001b[0m\u001b[0;34m\u001b[0m\u001b[0;34m\u001b[0m\u001b[0m\n\u001b[0;32m--> 194\u001b[0;31m       \u001b[0;32mraise\u001b[0m \u001b[0mValueError\u001b[0m\u001b[0;34m(\u001b[0m\u001b[0;34m'Mountpoint must not already contain files'\u001b[0m\u001b[0;34m)\u001b[0m\u001b[0;34m\u001b[0m\u001b[0;34m\u001b[0m\u001b[0m\n\u001b[0m\u001b[1;32m    195\u001b[0m     \u001b[0;32mif\u001b[0m \u001b[0;32mnot\u001b[0m \u001b[0m_os\u001b[0m\u001b[0;34m.\u001b[0m\u001b[0mpath\u001b[0m\u001b[0;34m.\u001b[0m\u001b[0misdir\u001b[0m\u001b[0;34m(\u001b[0m\u001b[0mmountpoint\u001b[0m\u001b[0;34m)\u001b[0m \u001b[0;32mand\u001b[0m \u001b[0m_os\u001b[0m\u001b[0;34m.\u001b[0m\u001b[0mpath\u001b[0m\u001b[0;34m.\u001b[0m\u001b[0mexists\u001b[0m\u001b[0;34m(\u001b[0m\u001b[0mmountpoint\u001b[0m\u001b[0;34m)\u001b[0m\u001b[0;34m:\u001b[0m\u001b[0;34m\u001b[0m\u001b[0;34m\u001b[0m\u001b[0m\n\u001b[1;32m    196\u001b[0m       \u001b[0;32mraise\u001b[0m \u001b[0mValueError\u001b[0m\u001b[0;34m(\u001b[0m\u001b[0;34m'Mountpoint must either be a directory or not exist'\u001b[0m\u001b[0;34m)\u001b[0m\u001b[0;34m\u001b[0m\u001b[0;34m\u001b[0m\u001b[0m\n",
            "\u001b[0;31mValueError\u001b[0m: Mountpoint must not already contain files"
          ]
        }
      ]
    },
    {
      "cell_type": "code",
      "source": [
        "!cp \"/content/MITOS_WSI_CCMCT/WSI\" \"/content/drive/MyDrive/images\" -r"
      ],
      "metadata": {
        "id": "5CODKdOMrl8b"
      },
      "execution_count": null,
      "outputs": []
    },
    {
      "cell_type": "code",
      "source": [
        "from google.colab import drive\n",
        "drive.mount('/content/drive')"
      ],
      "metadata": {
        "colab": {
          "base_uri": "https://localhost:8080/"
        },
        "id": "6S74KrKKs5JR",
        "outputId": "edc381bb-d170-4821-93b9-2477c3cd1ce3"
      },
      "execution_count": null,
      "outputs": [
        {
          "output_type": "stream",
          "name": "stdout",
          "text": [
            "Mounted at /content/drive\n"
          ]
        }
      ]
    },
    {
      "cell_type": "code",
      "source": [
        "%pwd"
      ],
      "metadata": {
        "colab": {
          "base_uri": "https://localhost:8080/",
          "height": 36
        },
        "id": "tTKKMerqs5xW",
        "outputId": "d2f540aa-4ccb-459a-b9e2-11ae11c1f386"
      },
      "execution_count": null,
      "outputs": [
        {
          "output_type": "execute_result",
          "data": {
            "text/plain": [
              "'/content/MITOS_WSI_CCMCT'"
            ],
            "application/vnd.google.colaboratory.intrinsic+json": {
              "type": "string"
            }
          },
          "metadata": {},
          "execution_count": 15
        }
      ]
    },
    {
      "cell_type": "code",
      "source": [],
      "metadata": {
        "id": "seBKgD_Ftwvl"
      },
      "execution_count": null,
      "outputs": []
    }
  ],
  "metadata": {
    "kernelspec": {
      "display_name": "Python 3",
      "language": "python",
      "name": "python3"
    },
    "language_info": {
      "codemirror_mode": {
        "name": "ipython",
        "version": 3
      },
      "file_extension": ".py",
      "mimetype": "text/x-python",
      "name": "python",
      "nbconvert_exporter": "python",
      "pygments_lexer": "ipython3",
      "version": "3.6.8"
    },
    "colab": {
      "provenance": [],
      "include_colab_link": true
    }
  },
  "nbformat": 4,
  "nbformat_minor": 0
}